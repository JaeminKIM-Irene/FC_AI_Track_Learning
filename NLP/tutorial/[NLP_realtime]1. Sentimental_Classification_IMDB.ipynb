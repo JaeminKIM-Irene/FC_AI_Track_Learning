{
  "nbformat": 4,
  "nbformat_minor": 0,
  "metadata": {
    "colab": {
      "provenance": [],
      "include_colab_link": true
    },
    "kernelspec": {
      "display_name": "Python 3",
      "name": "python3"
    },
    "language_info": {
      "codemirror_mode": {
        "name": "ipython",
        "version": 3
      },
      "file_extension": ".py",
      "mimetype": "text/x-python",
      "name": "python",
      "nbconvert_exporter": "python",
      "pygments_lexer": "ipython3",
      "version": "3.6.8"
    },
    "latex_envs": {
      "LaTeX_envs_menu_present": true,
      "autoclose": false,
      "autocomplete": true,
      "bibliofile": "biblio.bib",
      "cite_by": "apalike",
      "current_citInitial": 1,
      "eqLabelWithNumbers": true,
      "eqNumInitial": 1,
      "hotkeys": {
        "equation": "Ctrl-E",
        "itemize": "Ctrl-I"
      },
      "labels_anchors": false,
      "latex_user_defs": false,
      "report_style_numbering": false,
      "user_envs_cfg": false
    },
    "toc": {
      "base_numbering": 1,
      "nav_menu": {},
      "number_sections": true,
      "sideBar": true,
      "skip_h1_title": false,
      "title_cell": "Table of Contents",
      "title_sidebar": "Contents",
      "toc_cell": false,
      "toc_position": {},
      "toc_section_display": true,
      "toc_window_display": false
    },
    "varInspector": {
      "cols": {
        "lenName": 16,
        "lenType": 16,
        "lenVar": 40
      },
      "kernels_config": {
        "python": {
          "delete_cmd_postfix": "",
          "delete_cmd_prefix": "del ",
          "library": "var_list.py",
          "varRefreshCmd": "print(var_dic_list())"
        },
        "r": {
          "delete_cmd_postfix": ") ",
          "delete_cmd_prefix": "rm(",
          "library": "var_list.r",
          "varRefreshCmd": "cat(var_dic_list()) "
        }
      },
      "position": {
        "height": "553px",
        "left": "792px",
        "right": "61px",
        "top": "71px",
        "width": "375px"
      },
      "types_to_exclude": [
        "module",
        "function",
        "builtin_function_or_method",
        "instance",
        "_Feature"
      ],
      "window_display": false
    }
  },
  "cells": [
    {
      "cell_type": "markdown",
      "metadata": {
        "id": "view-in-github",
        "colab_type": "text"
      },
      "source": [
        "<a href=\"https://colab.research.google.com/github/JaeminKIM-Irene/FC_AI_Track_Learning/blob/main/NLP/tutorial/%5BNLP_realtime%5D1.%20Sentimental_Classification_IMDB.ipynb\" target=\"_parent\"><img src=\"https://colab.research.google.com/assets/colab-badge.svg\" alt=\"Open In Colab\"/></a>"
      ]
    },
    {
      "cell_type": "markdown",
      "metadata": {
        "id": "9oq4UnWajC9u"
      },
      "source": [
        "# Sentiment Classification\n",
        "\n",
        "### Task\n",
        "* IMDB 영화사이트에서 50000개의 영화평을 가지고 positive/negative인지 구분해보자.\n",
        "* 데이터 불러오기를 제외한 딥러닝 트레이닝 과정을 직접 구현해보는 것이 목표 입니다.\n",
        "\n",
        "### Dataset\n",
        "* [IMDB datasets](https://www.imdb.com/interfaces/)\n",
        "\n",
        "### Base code\n",
        "* Dataset: train, val, test로 split\n",
        "* Input data shape: (`batch_size`, `max_sequence_length`)\n",
        "* Output data shape: (`batch_size`, 1)\n",
        "* Architecture:\n",
        "  * RNN을 이용한 간단한 classification 모델 가이드\n",
        "  * `Embedding` - `SimpleRNN` - `Dense (with Sigmoid)`\n",
        "* Training\n",
        "* Evaluation\n",
        "\n",
        "### Try some techniques\n",
        "* Training-epochs 조절\n",
        "* Change model architectures (Custom model)\n",
        "  * Use another cells (LSTM, GRU, etc.)\n",
        "  * Use dropout layers\n",
        "* Embedding size 조절\n",
        "  * 또는 one-hot vector로 학습\n",
        "* Number of words in the vocabulary 변화\n",
        "* `pad` 옵션 변화\n",
        "* Data augmentation (if possible)"
      ]
    },
    {
      "cell_type": "markdown",
      "metadata": {
        "id": "iKq6mIljjC9v"
      },
      "source": [
        "## 자연어처리에 관한 workflow\n",
        "\n",
        "The flowchart of the algorithm is roughly:\n",
        "\n",
        "<img src=\"https://user-images.githubusercontent.com/11681225/46912373-d2a3a800-cfae-11e8-8201-ef17b65834f5.png\" alt=\"natural_language_flowchart\" style=\"width: 300px;\"/>"
      ]
    },
    {
      "cell_type": "markdown",
      "metadata": {
        "id": "OW9rRFr4jC9w"
      },
      "source": [
        "## Import modules"
      ]
    },
    {
      "cell_type": "code",
      "metadata": {
        "id": "Gbt0_EpOvL6C"
      },
      "source": [
        "use_colab = True\n",
        "assert use_colab in [True, False]"
      ],
      "execution_count": null,
      "outputs": []
    },
    {
      "cell_type": "code",
      "metadata": {
        "colab": {
          "base_uri": "https://localhost:8080/"
        },
        "id": "ibO_zjJmvN3s",
        "outputId": "e68dcea1-e720-4885-be5f-1b1e44b67e06"
      },
      "source": [
        "from google.colab import drive\n",
        "drive.mount('/content/drive')"
      ],
      "execution_count": null,
      "outputs": [
        {
          "output_type": "stream",
          "name": "stdout",
          "text": [
            "Drive already mounted at /content/drive; to attempt to forcibly remount, call drive.mount(\"/content/drive\", force_remount=True).\n"
          ]
        }
      ]
    },
    {
      "cell_type": "code",
      "source": [
        "!pip install torchtext\n",
        "!pip install portalocker>=2.0.0"
      ],
      "metadata": {
        "colab": {
          "base_uri": "https://localhost:8080/"
        },
        "id": "CgCS8iATktuT",
        "outputId": "7cbe0b11-420b-4dca-9ca5-9c65a8aff8d4"
      },
      "execution_count": null,
      "outputs": [
        {
          "output_type": "stream",
          "name": "stdout",
          "text": [
            "Requirement already satisfied: torchtext in /usr/local/lib/python3.10/dist-packages (0.16.0)\n",
            "Requirement already satisfied: tqdm in /usr/local/lib/python3.10/dist-packages (from torchtext) (4.66.1)\n",
            "Requirement already satisfied: requests in /usr/local/lib/python3.10/dist-packages (from torchtext) (2.31.0)\n",
            "Requirement already satisfied: torch==2.1.0 in /usr/local/lib/python3.10/dist-packages (from torchtext) (2.1.0+cu118)\n",
            "Requirement already satisfied: numpy in /usr/local/lib/python3.10/dist-packages (from torchtext) (1.23.5)\n",
            "Requirement already satisfied: torchdata==0.7.0 in /usr/local/lib/python3.10/dist-packages (from torchtext) (0.7.0)\n",
            "Requirement already satisfied: filelock in /usr/local/lib/python3.10/dist-packages (from torch==2.1.0->torchtext) (3.13.1)\n",
            "Requirement already satisfied: typing-extensions in /usr/local/lib/python3.10/dist-packages (from torch==2.1.0->torchtext) (4.5.0)\n",
            "Requirement already satisfied: sympy in /usr/local/lib/python3.10/dist-packages (from torch==2.1.0->torchtext) (1.12)\n",
            "Requirement already satisfied: networkx in /usr/local/lib/python3.10/dist-packages (from torch==2.1.0->torchtext) (3.2.1)\n",
            "Requirement already satisfied: jinja2 in /usr/local/lib/python3.10/dist-packages (from torch==2.1.0->torchtext) (3.1.2)\n",
            "Requirement already satisfied: fsspec in /usr/local/lib/python3.10/dist-packages (from torch==2.1.0->torchtext) (2023.6.0)\n",
            "Requirement already satisfied: triton==2.1.0 in /usr/local/lib/python3.10/dist-packages (from torch==2.1.0->torchtext) (2.1.0)\n",
            "Requirement already satisfied: urllib3>=1.25 in /usr/local/lib/python3.10/dist-packages (from torchdata==0.7.0->torchtext) (2.0.7)\n",
            "Requirement already satisfied: charset-normalizer<4,>=2 in /usr/local/lib/python3.10/dist-packages (from requests->torchtext) (3.3.2)\n",
            "Requirement already satisfied: idna<4,>=2.5 in /usr/local/lib/python3.10/dist-packages (from requests->torchtext) (3.4)\n",
            "Requirement already satisfied: certifi>=2017.4.17 in /usr/local/lib/python3.10/dist-packages (from requests->torchtext) (2023.7.22)\n",
            "Requirement already satisfied: MarkupSafe>=2.0 in /usr/local/lib/python3.10/dist-packages (from jinja2->torch==2.1.0->torchtext) (2.1.3)\n",
            "Requirement already satisfied: mpmath>=0.19 in /usr/local/lib/python3.10/dist-packages (from sympy->torch==2.1.0->torchtext) (1.3.0)\n"
          ]
        }
      ]
    },
    {
      "cell_type": "code",
      "metadata": {
        "id": "ct7ZVZ2EjC9x",
        "colab": {
          "base_uri": "https://localhost:8080/"
        },
        "outputId": "4718ac92-991a-4d94-cc42-1ae7e76959fc"
      },
      "source": [
        "from __future__ import absolute_import\n",
        "from __future__ import division\n",
        "from __future__ import print_function\n",
        "from __future__ import unicode_literals\n",
        "\n",
        "import os\n",
        "import time\n",
        "import shutil\n",
        "import tarfile\n",
        "\n",
        "import numpy as np\n",
        "import matplotlib.pyplot as plt\n",
        "%matplotlib inline\n",
        "from IPython.display import clear_output\n",
        "\n",
        "import torch\n",
        "import torch.nn as nn\n",
        "import torch.optim as optim\n",
        "from torch.utils.data import DataLoader, TensorDataset\n",
        "from torch.nn.utils.rnn import pad_sequence\n",
        "\n",
        "from torchtext.datasets import IMDB\n",
        "from torchtext.data.utils import get_tokenizer\n",
        "from torchtext.vocab import build_vocab_from_iterator\n",
        "from torch.utils.data import DataLoader\n",
        "\n",
        "from collections import Counter, defaultdict\n",
        "\n",
        "device = torch.device(\"cuda\" if torch.cuda.is_available() else \"cpu\")\n",
        "print(device)"
      ],
      "execution_count": null,
      "outputs": [
        {
          "output_type": "stream",
          "name": "stdout",
          "text": [
            "cuda\n"
          ]
        }
      ]
    },
    {
      "cell_type": "markdown",
      "metadata": {
        "id": "-e3ucn5_jC90"
      },
      "source": [
        "## Load Data\n",
        "\n",
        "* IMDB에서 다운받은 총 50000개의 영화평을 사용합니다.\n",
        "* `torchtext.dataset`에 이미 잘 가공된 데이터 셋이 있으므로 쉽게 다운받아 사용할 수 있습니다."
      ]
    },
    {
      "cell_type": "code",
      "metadata": {
        "id": "DKOg8JCsjC91"
      },
      "source": [
        "# IMDB 데이터셋 로드\n",
        "train_iter, test_iter = IMDB(split=('train', 'test'))"
      ],
      "execution_count": null,
      "outputs": []
    },
    {
      "cell_type": "code",
      "metadata": {
        "colab": {
          "base_uri": "https://localhost:8080/"
        },
        "id": "7mL9LbzXjC96",
        "outputId": "f6669cf8-3701-43aa-8731-25bd16ce9883"
      },
      "source": [
        "# train_iter의 길이를 계산합니다.\n",
        "train_length = sum(1 for _ in train_iter)\n",
        "\n",
        "# test_iter의 길이를 계산합니다.\n",
        "test_length = sum(1 for _ in test_iter)\n",
        "\n",
        "print(f\"Train dataset length: {train_length}\")\n",
        "print(f\"Test dataset length: {test_length}\")"
      ],
      "execution_count": null,
      "outputs": [
        {
          "output_type": "stream",
          "name": "stdout",
          "text": [
            "Train dataset length: 25000\n",
            "Test dataset length: 25000\n"
          ]
        }
      ]
    },
    {
      "cell_type": "code",
      "source": [
        "label_counter = Counter()\n",
        "for label, _ in train_iter:\n",
        "    label_counter[label] += 1\n",
        "print(f\"Label Distribution in Training Set: {label_counter}\")\n"
      ],
      "metadata": {
        "colab": {
          "base_uri": "https://localhost:8080/"
        },
        "id": "W3lGokYFt5ZL",
        "outputId": "618d01e6-d164-4e1d-b236-c846dccf7f96"
      },
      "execution_count": null,
      "outputs": [
        {
          "output_type": "stream",
          "name": "stdout",
          "text": [
            "Label Distribution in Training Set: Counter({1: 12500, 2: 12500})\n"
          ]
        }
      ]
    },
    {
      "cell_type": "markdown",
      "source": [
        "### 텍스트 리뷰\n",
        "\n",
        "* IMDb 데이터의 주요 구성 요소는 영화 리뷰 텍스트입니다. 각 리뷰는 영화에 대한 사용자의 의견을 텍스트 형식으로 포함하고 있습니다. 이 리뷰 텍스트는 모델의 입력으로 사용됩니다.\n",
        "\n",
        "* IMDb 데이터의 레이블은 각 리뷰에 대한 감정 분류를 나타냅니다. 일반적으로 긍정적인 리뷰는 2로, 부정적인 리뷰는 1으로 레이블링됩니다. 이러한 이진 분류 작업에서 모델은 주어진 리뷰의 감정을 예측하도록 훈련됩니다."
      ],
      "metadata": {
        "id": "jgE4r0akJZXj"
      }
    },
    {
      "cell_type": "code",
      "source": [
        "for i, (label, text) in enumerate(train_iter):\n",
        "    if i >= 5:  # 첫 5개의 샘플만 출력\n",
        "        break\n",
        "    print(f\"Label: {label}\\nText: {text[:200]}...\\n\")  # 텍스트의 첫 200자만 출력\n"
      ],
      "metadata": {
        "colab": {
          "base_uri": "https://localhost:8080/"
        },
        "id": "pSnOBeXst6Le",
        "outputId": "da968c2b-06f3-477e-fb5d-953ae496a18b"
      },
      "execution_count": null,
      "outputs": [
        {
          "output_type": "stream",
          "name": "stdout",
          "text": [
            "Label: 1\n",
            "Text: I rented I AM CURIOUS-YELLOW from my video store because of all the controversy that surrounded it when it was first released in 1967. I also heard that at first it was seized by U.S. customs if it ev...\n",
            "\n",
            "Label: 1\n",
            "Text: \"I Am Curious: Yellow\" is a risible and pretentious steaming pile. It doesn't matter what one's political views are because this film can hardly be taken seriously on any level. As for the claim that ...\n",
            "\n",
            "Label: 1\n",
            "Text: If only to avoid making this type of film in the future. This film is interesting as an experiment but tells no cogent story.<br /><br />One might feel virtuous for sitting thru it because it touches ...\n",
            "\n",
            "Label: 1\n",
            "Text: This film was probably inspired by Godard's Masculin, féminin and I urge you to see that film instead.<br /><br />The film has two strong elements and those are, (1) the realistic acting (2) the impre...\n",
            "\n",
            "Label: 1\n",
            "Text: Oh, brother...after hearing about this ridiculous film for umpteen years all I can think of is that old Peggy Lee song..<br /><br />\"Is that all there is??\" ...I was just an early teen when this smoke...\n",
            "\n"
          ]
        }
      ]
    },
    {
      "cell_type": "code",
      "source": [
        "word_counter = Counter()\n",
        "for _, text in train_iter:\n",
        "    words = text.split()\n",
        "    word_counter.update(words)\n",
        "\n",
        "print(f\"Total number of words: {sum(word_counter.values())}\")\n",
        "print(f\"Unique words: {len(word_counter)}\")\n",
        "print(f\"Most common words: {word_counter.most_common(10)}\")\n"
      ],
      "metadata": {
        "colab": {
          "base_uri": "https://localhost:8080/"
        },
        "id": "GVbgKmp9t8za",
        "outputId": "ccea634c-6126-46ce-9dc9-a182b35c45e5"
      },
      "execution_count": null,
      "outputs": [
        {
          "output_type": "stream",
          "name": "stdout",
          "text": [
            "Total number of words: 5844680\n",
            "Unique words: 280617\n",
            "Most common words: [('the', 287032), ('a', 155096), ('and', 152664), ('of', 142972), ('to', 132568), ('is', 103229), ('in', 85580), ('I', 65973), ('that', 64560), ('this', 57199)]\n"
          ]
        }
      ]
    },
    {
      "cell_type": "markdown",
      "source": [
        "### 단어 토큰화 (Word Tokenization):\n",
        "\n",
        "* 단어 토큰화는 텍스트를 단어 단위로 나누는 것입니다. 예를 들어, \"Hello, how are you?\"라는 문장은 다음과 같이 단어로 토큰화될 수 있습니다: [\"Hello\", \",\", \"how\", \"are\", \"you\", \"?\"]"
      ],
      "metadata": {
        "id": "DqMFluWNJ-Mj"
      }
    },
    {
      "cell_type": "code",
      "source": [
        "tokenizer = get_tokenizer('basic_english')\n",
        "\n",
        "tokenized_texts = []\n",
        "labels = []\n",
        "for label, text in train_iter:\n",
        "    tokens = tokenizer(text)\n",
        "    tokenized_texts.append(tokens)\n",
        "    labels.append(label-1)\n",
        "\n",
        "test_tokenized_texts = []\n",
        "test_labels = []\n",
        "for label, text in test_iter:\n",
        "    tokens = tokenizer(text)\n",
        "    test_tokenized_texts.append(tokens)\n",
        "    test_labels.append(label-1)\n"
      ],
      "metadata": {
        "id": "X5TGoMDyxLMk"
      },
      "execution_count": null,
      "outputs": []
    },
    {
      "cell_type": "code",
      "source": [
        "for i in range(5):\n",
        "    print(f\"Label: {labels[i]}\")\n",
        "    print(f\"Tokens: {tokenized_texts[i][:15]}\")  # 첫 15개 토큰만 출력\n",
        "    print()\n"
      ],
      "metadata": {
        "colab": {
          "base_uri": "https://localhost:8080/"
        },
        "id": "fCBeu-L7xOV4",
        "outputId": "b2ddf3e5-b1d0-49fc-c43a-461d2e1e287c"
      },
      "execution_count": null,
      "outputs": [
        {
          "output_type": "stream",
          "name": "stdout",
          "text": [
            "Label: 0\n",
            "Tokens: ['i', 'rented', 'i', 'am', 'curious-yellow', 'from', 'my', 'video', 'store', 'because', 'of', 'all', 'the', 'controversy', 'that']\n",
            "\n",
            "Label: 0\n",
            "Tokens: ['i', 'am', 'curious', 'yellow', 'is', 'a', 'risible', 'and', 'pretentious', 'steaming', 'pile', '.', 'it', 'doesn', \"'\"]\n",
            "\n",
            "Label: 0\n",
            "Tokens: ['if', 'only', 'to', 'avoid', 'making', 'this', 'type', 'of', 'film', 'in', 'the', 'future', '.', 'this', 'film']\n",
            "\n",
            "Label: 0\n",
            "Tokens: ['this', 'film', 'was', 'probably', 'inspired', 'by', 'godard', \"'\", 's', 'masculin', ',', 'féminin', 'and', 'i', 'urge']\n",
            "\n",
            "Label: 0\n",
            "Tokens: ['oh', ',', 'brother', '.', '.', '.', 'after', 'hearing', 'about', 'this', 'ridiculous', 'film', 'for', 'umpteen', 'years']\n",
            "\n"
          ]
        }
      ]
    },
    {
      "cell_type": "markdown",
      "source": [
        "### 어휘 구축\n",
        "\n",
        "* 가장 일반적인 방법은 상위 N개의 빈도가 높은 토큰을 선택하여 어휘를 구축하는 것입니다. 이렇게 선택된 토큰들은 어휘의 일부로 포함되며, 각 토큰에 고유한 정수 인덱스를 할당합니다. 예를 들어, 상위 10,000개의 토큰을 선택하고 각각에 0부터 9,999까지의 인덱스를 할당할 수 있습니다.\n",
        "\n",
        "* 종종 시작 토큰(<sos>), 종료 토큰(<eos>), 패딩 토큰(<pad>), 알 수 없는 토큰(<unk>)과 같은 특수 토큰들을 어휘에 추가합니다. 이러한 특수 토큰들은 모델 훈련과 시퀀스 처리에서 유용합니다.\n",
        "\n",
        "* 어휘의 크기는 선택한 상위 N개의 토큰과 특수 토큰의 합으로 결정됩니다. 이 크기는 모델의 입력 및 출력 차원에 영향을 미칩니다."
      ],
      "metadata": {
        "id": "L3m2vWt1KFv9"
      }
    },
    {
      "cell_type": "code",
      "source": [
        "def build_vocab_with_padding_and_unk(tokenized_texts, padding_token='<pad>', unk_token='<unk>'):\n",
        "    # 모든 토큰의 빈도수를 계산합니다.\n",
        "    token_freqs = Counter(token for text in tokenized_texts for token in text)\n",
        "\n",
        "    # 어휘 사전을 구축합니다. padding_token과 unk_token을 각각 0번, 1번 인덱스에 추가합니다.\n",
        "    vocab = {padding_token: 0, unk_token: 1}\n",
        "    vocab.update({token: idx + 2 for idx, (token, _) in enumerate(token_freqs.items())})\n",
        "\n",
        "    return vocab\n",
        "\n",
        "all_tokenized_text = tokenized_texts + test_tokenized_texts\n",
        "print(all_tokenized_text[:10])\n",
        "vocab = build_vocab_with_padding_and_unk(all_tokenized_text)\n"
      ],
      "metadata": {
        "id": "K1PLOOUfx9ME",
        "colab": {
          "base_uri": "https://localhost:8080/"
        },
        "outputId": "debce3e6-3ea5-411d-c35e-ab091bb65dad"
      },
      "execution_count": null,
      "outputs": [
        {
          "output_type": "stream",
          "name": "stdout",
          "text": [
            "[['i', 'rented', 'i', 'am', 'curious-yellow', 'from', 'my', 'video', 'store', 'because', 'of', 'all', 'the', 'controversy', 'that', 'surrounded', 'it', 'when', 'it', 'was', 'first', 'released', 'in', '1967', '.', 'i', 'also', 'heard', 'that', 'at', 'first', 'it', 'was', 'seized', 'by', 'u', '.', 's', '.', 'customs', 'if', 'it', 'ever', 'tried', 'to', 'enter', 'this', 'country', ',', 'therefore', 'being', 'a', 'fan', 'of', 'films', 'considered', 'controversial', 'i', 'really', 'had', 'to', 'see', 'this', 'for', 'myself', '.', 'the', 'plot', 'is', 'centered', 'around', 'a', 'young', 'swedish', 'drama', 'student', 'named', 'lena', 'who', 'wants', 'to', 'learn', 'everything', 'she', 'can', 'about', 'life', '.', 'in', 'particular', 'she', 'wants', 'to', 'focus', 'her', 'attentions', 'to', 'making', 'some', 'sort', 'of', 'documentary', 'on', 'what', 'the', 'average', 'swede', 'thought', 'about', 'certain', 'political', 'issues', 'such', 'as', 'the', 'vietnam', 'war', 'and', 'race', 'issues', 'in', 'the', 'united', 'states', '.', 'in', 'between', 'asking', 'politicians', 'and', 'ordinary', 'denizens', 'of', 'stockholm', 'about', 'their', 'opinions', 'on', 'politics', ',', 'she', 'has', 'sex', 'with', 'her', 'drama', 'teacher', ',', 'classmates', ',', 'and', 'married', 'men', '.', 'what', 'kills', 'me', 'about', 'i', 'am', 'curious-yellow', 'is', 'that', '40', 'years', 'ago', ',', 'this', 'was', 'considered', 'pornographic', '.', 'really', ',', 'the', 'sex', 'and', 'nudity', 'scenes', 'are', 'few', 'and', 'far', 'between', ',', 'even', 'then', 'it', \"'\", 's', 'not', 'shot', 'like', 'some', 'cheaply', 'made', 'porno', '.', 'while', 'my', 'countrymen', 'mind', 'find', 'it', 'shocking', ',', 'in', 'reality', 'sex', 'and', 'nudity', 'are', 'a', 'major', 'staple', 'in', 'swedish', 'cinema', '.', 'even', 'ingmar', 'bergman', ',', 'arguably', 'their', 'answer', 'to', 'good', 'old', 'boy', 'john', 'ford', ',', 'had', 'sex', 'scenes', 'in', 'his', 'films', '.', 'i', 'do', 'commend', 'the', 'filmmakers', 'for', 'the', 'fact', 'that', 'any', 'sex', 'shown', 'in', 'the', 'film', 'is', 'shown', 'for', 'artistic', 'purposes', 'rather', 'than', 'just', 'to', 'shock', 'people', 'and', 'make', 'money', 'to', 'be', 'shown', 'in', 'pornographic', 'theaters', 'in', 'america', '.', 'i', 'am', 'curious-yellow', 'is', 'a', 'good', 'film', 'for', 'anyone', 'wanting', 'to', 'study', 'the', 'meat', 'and', 'potatoes', '(', 'no', 'pun', 'intended', ')', 'of', 'swedish', 'cinema', '.', 'but', 'really', ',', 'this', 'film', 'doesn', \"'\", 't', 'have', 'much', 'of', 'a', 'plot', '.'], ['i', 'am', 'curious', 'yellow', 'is', 'a', 'risible', 'and', 'pretentious', 'steaming', 'pile', '.', 'it', 'doesn', \"'\", 't', 'matter', 'what', 'one', \"'\", 's', 'political', 'views', 'are', 'because', 'this', 'film', 'can', 'hardly', 'be', 'taken', 'seriously', 'on', 'any', 'level', '.', 'as', 'for', 'the', 'claim', 'that', 'frontal', 'male', 'nudity', 'is', 'an', 'automatic', 'nc-17', ',', 'that', 'isn', \"'\", 't', 'true', '.', 'i', \"'\", 've', 'seen', 'r-rated', 'films', 'with', 'male', 'nudity', '.', 'granted', ',', 'they', 'only', 'offer', 'some', 'fleeting', 'views', ',', 'but', 'where', 'are', 'the', 'r-rated', 'films', 'with', 'gaping', 'vulvas', 'and', 'flapping', 'labia', '?', 'nowhere', ',', 'because', 'they', 'don', \"'\", 't', 'exist', '.', 'the', 'same', 'goes', 'for', 'those', 'crappy', 'cable', 'shows', 'schlongs', 'swinging', 'in', 'the', 'breeze', 'but', 'not', 'a', 'clitoris', 'in', 'sight', '.', 'and', 'those', 'pretentious', 'indie', 'movies', 'like', 'the', 'brown', 'bunny', ',', 'in', 'which', 'we', \"'\", 're', 'treated', 'to', 'the', 'site', 'of', 'vincent', 'gallo', \"'\", 's', 'throbbing', 'johnson', ',', 'but', 'not', 'a', 'trace', 'of', 'pink', 'visible', 'on', 'chloe', 'sevigny', '.', 'before', 'crying', '(', 'or', 'implying', ')', 'double-standard', 'in', 'matters', 'of', 'nudity', ',', 'the', 'mentally', 'obtuse', 'should', 'take', 'into', 'account', 'one', 'unavoidably', 'obvious', 'anatomical', 'difference', 'between', 'men', 'and', 'women', 'there', 'are', 'no', 'genitals', 'on', 'display', 'when', 'actresses', 'appears', 'nude', ',', 'and', 'the', 'same', 'cannot', 'be', 'said', 'for', 'a', 'man', '.', 'in', 'fact', ',', 'you', 'generally', 'won', \"'\", 't', 'see', 'female', 'genitals', 'in', 'an', 'american', 'film', 'in', 'anything', 'short', 'of', 'porn', 'or', 'explicit', 'erotica', '.', 'this', 'alleged', 'double-standard', 'is', 'less', 'a', 'double', 'standard', 'than', 'an', 'admittedly', 'depressing', 'ability', 'to', 'come', 'to', 'terms', 'culturally', 'with', 'the', 'insides', 'of', 'women', \"'\", 's', 'bodies', '.'], ['if', 'only', 'to', 'avoid', 'making', 'this', 'type', 'of', 'film', 'in', 'the', 'future', '.', 'this', 'film', 'is', 'interesting', 'as', 'an', 'experiment', 'but', 'tells', 'no', 'cogent', 'story', '.', 'one', 'might', 'feel', 'virtuous', 'for', 'sitting', 'thru', 'it', 'because', 'it', 'touches', 'on', 'so', 'many', 'important', 'issues', 'but', 'it', 'does', 'so', 'without', 'any', 'discernable', 'motive', '.', 'the', 'viewer', 'comes', 'away', 'with', 'no', 'new', 'perspectives', '(', 'unless', 'one', 'comes', 'up', 'with', 'one', 'while', 'one', \"'\", 's', 'mind', 'wanders', ',', 'as', 'it', 'will', 'invariably', 'do', 'during', 'this', 'pointless', 'film', ')', '.', 'one', 'might', 'better', 'spend', 'one', \"'\", 's', 'time', 'staring', 'out', 'a', 'window', 'at', 'a', 'tree', 'growing', '.'], ['this', 'film', 'was', 'probably', 'inspired', 'by', 'godard', \"'\", 's', 'masculin', ',', 'féminin', 'and', 'i', 'urge', 'you', 'to', 'see', 'that', 'film', 'instead', '.', 'the', 'film', 'has', 'two', 'strong', 'elements', 'and', 'those', 'are', ',', '(', '1', ')', 'the', 'realistic', 'acting', '(', '2', ')', 'the', 'impressive', ',', 'undeservedly', 'good', ',', 'photo', '.', 'apart', 'from', 'that', ',', 'what', 'strikes', 'me', 'most', 'is', 'the', 'endless', 'stream', 'of', 'silliness', '.', 'lena', 'nyman', 'has', 'to', 'be', 'most', 'annoying', 'actress', 'in', 'the', 'world', '.', 'she', 'acts', 'so', 'stupid', 'and', 'with', 'all', 'the', 'nudity', 'in', 'this', 'film', ',', '.', '.', '.', 'it', \"'\", 's', 'unattractive', '.', 'comparing', 'to', 'godard', \"'\", 's', 'film', ',', 'intellectuality', 'has', 'been', 'replaced', 'with', 'stupidity', '.', 'without', 'going', 'too', 'far', 'on', 'this', 'subject', ',', 'i', 'would', 'say', 'that', 'follows', 'from', 'the', 'difference', 'in', 'ideals', 'between', 'the', 'french', 'and', 'the', 'swedish', 'society', '.', 'a', 'movie', 'of', 'its', 'time', ',', 'and', 'place', '.', '2/10', '.'], ['oh', ',', 'brother', '.', '.', '.', 'after', 'hearing', 'about', 'this', 'ridiculous', 'film', 'for', 'umpteen', 'years', 'all', 'i', 'can', 'think', 'of', 'is', 'that', 'old', 'peggy', 'lee', 'song', '.', '.', 'is', 'that', 'all', 'there', 'is', '?', '?', '.', '.', '.', 'i', 'was', 'just', 'an', 'early', 'teen', 'when', 'this', 'smoked', 'fish', 'hit', 'the', 'u', '.', 's', '.', 'i', 'was', 'too', 'young', 'to', 'get', 'in', 'the', 'theater', '(', 'although', 'i', 'did', 'manage', 'to', 'sneak', 'into', 'goodbye', 'columbus', ')', '.', 'then', 'a', 'screening', 'at', 'a', 'local', 'film', 'museum', 'beckoned', '-', 'finally', 'i', 'could', 'see', 'this', 'film', ',', 'except', 'now', 'i', 'was', 'as', 'old', 'as', 'my', 'parents', 'were', 'when', 'they', 'schlepped', 'to', 'see', 'it', '!', '!', 'the', 'only', 'reason', 'this', 'film', 'was', 'not', 'condemned', 'to', 'the', 'anonymous', 'sands', 'of', 'time', 'was', 'because', 'of', 'the', 'obscenity', 'case', 'sparked', 'by', 'its', 'u', '.', 's', '.', 'release', '.', 'millions', 'of', 'people', 'flocked', 'to', 'this', 'stinker', ',', 'thinking', 'they', 'were', 'going', 'to', 'see', 'a', 'sex', 'film', '.', '.', '.', 'instead', ',', 'they', 'got', 'lots', 'of', 'closeups', 'of', 'gnarly', ',', 'repulsive', 'swedes', ',', 'on-street', 'interviews', 'in', 'bland', 'shopping', 'malls', ',', 'asinie', 'political', 'pretension', '.', '.', '.', 'and', 'feeble', 'who-cares', 'simulated', 'sex', 'scenes', 'with', 'saggy', ',', 'pale', 'actors', '.', 'cultural', 'icon', ',', 'holy', 'grail', ',', 'historic', 'artifact', '.', '.', 'whatever', 'this', 'thing', 'was', ',', 'shred', 'it', ',', 'burn', 'it', ',', 'then', 'stuff', 'the', 'ashes', 'in', 'a', 'lead', 'box', '!', 'elite', 'esthetes', 'still', 'scrape', 'to', 'find', 'value', 'in', 'its', 'boring', 'pseudo', 'revolutionary', 'political', 'spewings', '.', '.', 'but', 'if', 'it', 'weren', \"'\", 't', 'for', 'the', 'censorship', 'scandal', ',', 'it', 'would', 'have', 'been', 'ignored', ',', 'then', 'forgotten', '.', 'instead', ',', 'the', 'i', 'am', 'blank', ',', 'blank', 'rhythymed', 'title', 'was', 'repeated', 'endlessly', 'for', 'years', 'as', 'a', 'titilation', 'for', 'porno', 'films', '(', 'i', 'am', 'curious', ',', 'lavender', '-', 'for', 'gay', 'films', ',', 'i', 'am', 'curious', ',', 'black', '-', 'for', 'blaxploitation', 'films', ',', 'etc', '.', '.', ')', 'and', 'every', 'ten', 'years', 'or', 'so', 'the', 'thing', 'rises', 'from', 'the', 'dead', ',', 'to', 'be', 'viewed', 'by', 'a', 'new', 'generation', 'of', 'suckers', 'who', 'want', 'to', 'see', 'that', 'naughty', 'sex', 'film', 'that', 'revolutionized', 'the', 'film', 'industry', '.', '.', '.', 'yeesh', ',', 'avoid', 'like', 'the', 'plague', '.', '.', 'or', 'if', 'you', 'must', 'see', 'it', '-', 'rent', 'the', 'video', 'and', 'fast', 'forward', 'to', 'the', 'dirty', 'parts', ',', 'just', 'to', 'get', 'it', 'over', 'with', '.'], ['i', 'would', 'put', 'this', 'at', 'the', 'top', 'of', 'my', 'list', 'of', 'films', 'in', 'the', 'category', 'of', 'unwatchable', 'trash', '!', 'there', 'are', 'films', 'that', 'are', 'bad', ',', 'but', 'the', 'worst', 'kind', 'are', 'the', 'ones', 'that', 'are', 'unwatchable', 'but', 'you', 'are', 'suppose', 'to', 'like', 'them', 'because', 'they', 'are', 'supposed', 'to', 'be', 'good', 'for', 'you', '!', 'the', 'sex', 'sequences', ',', 'so', 'shocking', 'in', 'its', 'day', ',', 'couldn', \"'\", 't', 'even', 'arouse', 'a', 'rabbit', '.', 'the', 'so', 'called', 'controversial', 'politics', 'is', 'strictly', 'high', 'school', 'sophomore', 'amateur', 'night', 'marxism', '.', 'the', 'film', 'is', 'self-consciously', 'arty', 'in', 'the', 'worst', 'sense', 'of', 'the', 'term', '.', 'the', 'photography', 'is', 'in', 'a', 'harsh', 'grainy', 'black', 'and', 'white', '.', 'some', 'scenes', 'are', 'out', 'of', 'focus', 'or', 'taken', 'from', 'the', 'wrong', 'angle', '.', 'even', 'the', 'sound', 'is', 'bad', '!', 'and', 'some', 'people', 'call', 'this', 'art', '?'], ['whoever', 'wrote', 'the', 'screenplay', 'for', 'this', 'movie', 'obviously', 'never', 'consulted', 'any', 'books', 'about', 'lucille', 'ball', ',', 'especially', 'her', 'autobiography', '.', 'i', \"'\", 've', 'never', 'seen', 'so', 'many', 'mistakes', 'in', 'a', 'biopic', ',', 'ranging', 'from', 'her', 'early', 'years', 'in', 'celoron', 'and', 'jamestown', 'to', 'her', 'later', 'years', 'with', 'desi', '.', 'i', 'could', 'write', 'a', 'whole', 'list', 'of', 'factual', 'errors', ',', 'but', 'it', 'would', 'go', 'on', 'for', 'pages', '.', 'in', 'all', ',', 'i', 'believe', 'that', 'lucille', 'ball', 'is', 'one', 'of', 'those', 'inimitable', 'people', 'who', 'simply', 'cannot', 'be', 'portrayed', 'by', 'anyone', 'other', 'than', 'themselves', '.', 'if', 'i', 'were', 'lucie', 'arnaz', 'and', 'desi', ',', 'jr', '.', ',', 'i', 'would', 'be', 'irate', 'at', 'how', 'many', 'mistakes', 'were', 'made', 'in', 'this', 'film', '.', 'the', 'filmmakers', 'tried', 'hard', ',', 'but', 'the', 'movie', 'seems', 'awfully', 'sloppy', 'to', 'me', '.'], ['when', 'i', 'first', 'saw', 'a', 'glimpse', 'of', 'this', 'movie', ',', 'i', 'quickly', 'noticed', 'the', 'actress', 'who', 'was', 'playing', 'the', 'role', 'of', 'lucille', 'ball', '.', 'rachel', 'york', \"'\", 's', 'portrayal', 'of', 'lucy', 'is', 'absolutely', 'awful', '.', 'lucille', 'ball', 'was', 'an', 'astounding', 'comedian', 'with', 'incredible', 'talent', '.', 'to', 'think', 'about', 'a', 'legend', 'like', 'lucille', 'ball', 'being', 'portrayed', 'the', 'way', 'she', 'was', 'in', 'the', 'movie', 'is', 'horrendous', '.', 'i', 'cannot', 'believe', 'out', 'of', 'all', 'the', 'actresses', 'in', 'the', 'world', 'who', 'could', 'play', 'a', 'much', 'better', 'lucy', ',', 'the', 'producers', 'decided', 'to', 'get', 'rachel', 'york', '.', 'she', 'might', 'be', 'a', 'good', 'actress', 'in', 'other', 'roles', 'but', 'to', 'play', 'the', 'role', 'of', 'lucille', 'ball', 'is', 'tough', '.', 'it', 'is', 'pretty', 'hard', 'to', 'find', 'someone', 'who', 'could', 'resemble', 'lucille', 'ball', ',', 'but', 'they', 'could', 'at', 'least', 'find', 'someone', 'a', 'bit', 'similar', 'in', 'looks', 'and', 'talent', '.', 'if', 'you', 'noticed', 'york', \"'\", 's', 'portrayal', 'of', 'lucy', 'in', 'episodes', 'of', 'i', 'love', 'lucy', 'like', 'the', 'chocolate', 'factory', 'or', 'vitavetavegamin', ',', 'nothing', 'is', 'similar', 'in', 'any', 'way-her', 'expression', ',', 'voice', ',', 'or', 'movement', '.', 'to', 'top', 'it', 'all', 'off', ',', 'danny', 'pino', 'playing', 'desi', 'arnaz', 'is', 'horrible', '.', 'pino', 'does', 'not', 'qualify', 'to', 'play', 'as', 'ricky', '.', 'he', \"'\", 's', 'small', 'and', 'skinny', ',', 'his', 'accent', 'is', 'unreal', ',', 'and', 'once', 'again', ',', 'his', 'acting', 'is', 'unbelievable', '.', 'although', 'fred', 'and', 'ethel', 'were', 'not', 'similar', 'either', ',', 'they', 'were', 'not', 'as', 'bad', 'as', 'the', 'characters', 'of', 'lucy', 'and', 'ricky', '.', 'overall', ',', 'extremely', 'horrible', 'casting', 'and', 'the', 'story', 'is', 'badly', 'told', '.', 'if', 'people', 'want', 'to', 'understand', 'the', 'real', 'life', 'situation', 'of', 'lucille', 'ball', ',', 'i', 'suggest', 'watching', 'a&e', 'biography', 'of', 'lucy', 'and', 'desi', ',', 'read', 'the', 'book', 'from', 'lucille', 'ball', 'herself', ',', 'or', 'pbs', \"'\", 'american', 'masters', 'finding', 'lucy', '.', 'if', 'you', 'want', 'to', 'see', 'a', 'docudrama', ',', 'before', 'the', 'laughter', 'would', 'be', 'a', 'better', 'choice', '.', 'the', 'casting', 'of', 'lucille', 'ball', 'and', 'desi', 'arnaz', 'in', 'before', 'the', 'laughter', 'is', 'much', 'better', 'compared', 'to', 'this', '.', 'at', 'least', ',', 'a', 'similar', 'aspect', 'is', 'shown', 'rather', 'than', 'nothing', '.'], ['who', 'are', 'these', 'they-', 'the', 'actors', '?', 'the', 'filmmakers', '?', 'certainly', 'couldn', \"'\", 't', 'be', 'the', 'audience-', 'this', 'is', 'among', 'the', 'most', 'air-puffed', 'productions', 'in', 'existence', '.', 'it', \"'\", 's', 'the', 'kind', 'of', 'movie', 'that', 'looks', 'like', 'it', 'was', 'a', 'lot', 'of', 'fun', 'to', 'shoot\\x97', 'too', 'much', 'fun', ',', 'nobody', 'is', 'getting', 'any', 'actual', 'work', 'done', ',', 'and', 'that', 'almost', 'always', 'makes', 'for', 'a', 'movie', 'that', \"'\", 's', 'no', 'fun', 'to', 'watch', '.', 'ritter', 'dons', 'glasses', 'so', 'as', 'to', 'hammer', 'home', 'his', 'character', \"'\", 's', 'status', 'as', 'a', 'sort', 'of', 'doppleganger', 'of', 'the', 'bespectacled', 'bogdanovich', 'the', 'scenes', 'with', 'the', 'breezy', 'ms', '.', 'stratten', 'are', 'sweet', ',', 'but', 'have', 'an', 'embarrassing', ',', 'look-guys-i', \"'\", 'm-dating-the-prom-queen', 'feel', 'to', 'them', '.', 'ben', 'gazzara', 'sports', 'his', 'usual', 'cat', \"'\", 's-got-canary', 'grin', 'in', 'a', 'futile', 'attempt', 'to', 'elevate', 'the', 'meager', 'plot', ',', 'which', 'requires', 'him', 'to', 'pursue', 'audrey', 'hepburn', 'with', 'all', 'the', 'interest', 'of', 'a', 'narcoleptic', 'at', 'an', 'insomnia', 'clinic', '.', 'in', 'the', 'meantime', ',', 'the', 'budding', 'couple', \"'\", 's', 'respective', 'children', '(', 'nepotism', 'alert', 'bogdanovich', \"'\", 's', 'daughters', ')', 'spew', 'cute', 'and', 'pick', 'up', 'some', 'fairly', 'disturbing', 'pointers', 'on', \"'\", 'love', \"'\", 'while', 'observing', 'their', 'parents', '.', '(', 'ms', '.', 'hepburn', ',', 'drawing', 'on', 'her', 'dignity', ',', 'manages', 'to', 'rise', 'above', 'the', 'proceedings-', 'but', 'she', 'has', 'the', 'monumental', 'challenge', 'of', 'playing', 'herself', ',', 'ostensibly', '.', ')', 'everybody', 'looks', 'great', ',', 'but', 'so', 'what', '?', 'it', \"'\", 's', 'a', 'movie', 'and', 'we', 'can', 'expect', 'that', 'much', ',', 'if', 'that', \"'\", 's', 'what', 'you', \"'\", 're', 'looking', 'for', 'you', \"'\", 'd', 'be', 'better', 'off', 'picking', 'up', 'a', 'copy', 'of', 'vogue', '.', 'oh-', 'and', 'it', 'has', 'to', 'be', 'mentioned', 'that', 'colleen', 'camp', 'thoroughly', 'annoys', ',', 'even', 'apart', 'from', 'her', 'singing', ',', 'which', ',', 'while', 'competent', ',', 'is', 'wholly', 'unconvincing', '.', '.', '.', 'the', 'country', 'and', 'western', 'numbers', 'are', 'woefully', 'mismatched', 'with', 'the', 'standards', 'on', 'the', 'soundtrack', '.', 'surely', 'this', 'is', 'not', 'what', 'gershwin', '(', 'who', 'wrote', 'the', 'song', 'from', 'which', 'the', 'movie', \"'\", 's', 'title', 'is', 'derived', ')', 'had', 'in', 'mind', 'his', 'stage', 'musicals', 'of', 'the', '20', \"'\", 's', 'may', 'have', 'been', 'slight', ',', 'but', 'at', 'least', 'they', 'were', 'long', 'on', 'charm', '.', 'they', 'all', 'laughed', 'tries', 'to', 'coast', 'on', 'its', 'good', 'intentions', ',', 'but', 'nobody-', 'least', 'of', 'all', 'peter', 'bogdanovich', '-', 'has', 'the', 'good', 'sense', 'to', 'put', 'on', 'the', 'brakes', '.', 'due', 'in', 'no', 'small', 'part', 'to', 'the', 'tragic', 'death', 'of', 'dorothy', 'stratten', ',', 'this', 'movie', 'has', 'a', 'special', 'place', 'in', 'the', 'heart', 'of', 'mr', '.', 'bogdanovich-', 'he', 'even', 'bought', 'it', 'back', 'from', 'its', 'producers', ',', 'then', 'distributed', 'it', 'on', 'his', 'own', 'and', 'went', 'bankrupt', 'when', 'it', 'didn', \"'\", 't', 'prove', 'popular', '.', 'his', 'rise', 'and', 'fall', 'is', 'among', 'the', 'more', 'sympathetic', 'and', 'tragic', 'of', 'hollywood', 'stories', ',', 'so', 'there', \"'\", 's', 'no', 'joy', 'in', 'criticizing', 'the', 'film', '.', '.', '.', 'there', '_is_', 'real', 'emotional', 'investment', 'in', 'ms', '.', 'stratten', \"'\", 's', 'scenes', '.', 'but', 'laughed', 'is', 'a', 'faint', 'echo', 'of', 'the', 'last', 'picture', 'show', ',', 'paper', 'moon', 'or', 'what', \"'\", 's', 'up', ',', 'doc-', 'following', 'daisy', 'miller', 'and', 'at', 'long', 'last', 'love', ',', 'it', 'was', 'a', 'thundering', 'confirmation', 'of', 'the', 'phase', 'from', 'which', 'p', '.', 'b', '.', 'has', 'never', 'emerged', '.', 'all', 'in', 'all', ',', 'though', ',', 'the', 'movie', 'is', 'harmless', ',', 'only', 'a', 'waste', 'of', 'rental', '.', 'i', 'want', 'to', 'watch', 'people', 'having', 'a', 'good', 'time', ',', 'i', \"'\", 'll', 'go', 'to', 'the', 'park', 'on', 'a', 'sunny', 'day', '.', 'for', 'filmic', 'expressions', 'of', 'joy', 'and', 'love', ',', 'i', \"'\", 'll', 'stick', 'to', 'ernest', 'lubitsch', 'and', 'jaques', 'demy', '.', '.', '.'], ['this', 'is', 'said', 'to', 'be', 'a', 'personal', 'film', 'for', 'peter', 'bogdonavitch', '.', 'he', 'based', 'it', 'on', 'his', 'life', 'but', 'changed', 'things', 'around', 'to', 'fit', 'the', 'characters', ',', 'who', 'are', 'detectives', '.', 'these', 'detectives', 'date', 'beautiful', 'models', 'and', 'have', 'no', 'problem', 'getting', 'them', '.', 'sounds', 'more', 'like', 'a', 'millionaire', 'playboy', 'filmmaker', 'than', 'a', 'detective', ',', 'doesn', \"'\", 't', 'it', '?', 'this', 'entire', 'movie', 'was', 'written', 'by', 'peter', ',', 'and', 'it', 'shows', 'how', 'out', 'of', 'touch', 'with', 'real', 'people', 'he', 'was', '.', 'you', \"'\", 're', 'supposed', 'to', 'write', 'what', 'you', 'know', ',', 'and', 'he', 'did', 'that', ',', 'indeed', '.', 'and', 'leaves', 'the', 'audience', 'bored', 'and', 'confused', ',', 'and', 'jealous', ',', 'for', 'that', 'matter', '.', 'this', 'is', 'a', 'curio', 'for', 'people', 'who', 'want', 'to', 'see', 'dorothy', 'stratten', ',', 'who', 'was', 'murdered', 'right', 'after', 'filming', '.', 'but', 'patti', 'hanson', ',', 'who', 'would', ',', 'in', 'real', 'life', ',', 'marry', 'keith', 'richards', ',', 'was', 'also', 'a', 'model', ',', 'like', 'stratten', ',', 'but', 'is', 'a', 'lot', 'better', 'and', 'has', 'a', 'more', 'ample', 'part', '.', 'in', 'fact', ',', 'stratten', \"'\", 's', 'part', 'seemed', 'forced', 'added', '.', 'she', 'doesn', \"'\", 't', 'have', 'a', 'lot', 'to', 'do', 'with', 'the', 'story', ',', 'which', 'is', 'pretty', 'convoluted', 'to', 'begin', 'with', '.', 'all', 'in', 'all', ',', 'every', 'character', 'in', 'this', 'film', 'is', 'somebody', 'that', 'very', 'few', 'people', 'can', 'relate', 'with', ',', 'unless', 'you', \"'\", 're', 'millionaire', 'from', 'manhattan', 'with', 'beautiful', 'supermodels', 'at', 'your', 'beckon', 'call', '.', 'for', 'the', 'rest', 'of', 'us', ',', 'it', \"'\", 's', 'an', 'irritating', 'snore', 'fest', '.', 'that', \"'\", 's', 'what', 'happens', 'when', 'you', \"'\", 're', 'out', 'of', 'touch', '.', 'you', 'entertain', 'your', 'few', 'friends', 'with', 'inside', 'jokes', ',', 'and', 'bore', 'all', 'the', 'rest', '.']]\n"
          ]
        }
      ]
    },
    {
      "cell_type": "code",
      "source": [
        "len(vocab)"
      ],
      "metadata": {
        "colab": {
          "base_uri": "https://localhost:8080/"
        },
        "id": "Rmc_HdGZyFwe",
        "outputId": "3d4156a4-011f-494d-ba78-c68bd530798d"
      },
      "execution_count": null,
      "outputs": [
        {
          "output_type": "execute_result",
          "data": {
            "text/plain": [
              "147158"
            ]
          },
          "metadata": {},
          "execution_count": 13
        }
      ]
    },
    {
      "cell_type": "markdown",
      "source": [
        "### 토크나이징된 데이터와 vocab index 확인"
      ],
      "metadata": {
        "id": "XidYom5OKSp6"
      }
    },
    {
      "cell_type": "code",
      "source": [
        "def tokenize_and_index(texts, vocab):\n",
        "    indexed_texts = []\n",
        "    for text in texts:\n",
        "        indexed_text = [vocab[token] if token in vocab else vocab['<unk>'] for token in text]\n",
        "        indexed_texts.append(indexed_text)\n",
        "    return indexed_texts\n",
        "\n",
        "indexed_texts = tokenize_and_index(tokenized_texts, vocab)\n",
        "test_indexed_texts = tokenize_and_index(test_tokenized_texts, vocab)\n"
      ],
      "metadata": {
        "id": "oI2D4a4syyRe"
      },
      "execution_count": null,
      "outputs": []
    },
    {
      "cell_type": "code",
      "source": [
        "indexed_texts[0]"
      ],
      "metadata": {
        "colab": {
          "base_uri": "https://localhost:8080/"
        },
        "id": "og6ZZwBwy2Mh",
        "outputId": "35c9bf29-3392-4ad1-dd34-4a833a2cd3b9"
      },
      "execution_count": null,
      "outputs": [
        {
          "output_type": "execute_result",
          "data": {
            "text/plain": [
              "[2,\n",
              " 3,\n",
              " 2,\n",
              " 4,\n",
              " 5,\n",
              " 6,\n",
              " 7,\n",
              " 8,\n",
              " 9,\n",
              " 10,\n",
              " 11,\n",
              " 12,\n",
              " 13,\n",
              " 14,\n",
              " 15,\n",
              " 16,\n",
              " 17,\n",
              " 18,\n",
              " 17,\n",
              " 19,\n",
              " 20,\n",
              " 21,\n",
              " 22,\n",
              " 23,\n",
              " 24,\n",
              " 2,\n",
              " 25,\n",
              " 26,\n",
              " 15,\n",
              " 27,\n",
              " 20,\n",
              " 17,\n",
              " 19,\n",
              " 28,\n",
              " 29,\n",
              " 30,\n",
              " 24,\n",
              " 31,\n",
              " 24,\n",
              " 32,\n",
              " 33,\n",
              " 17,\n",
              " 34,\n",
              " 35,\n",
              " 36,\n",
              " 37,\n",
              " 38,\n",
              " 39,\n",
              " 40,\n",
              " 41,\n",
              " 42,\n",
              " 43,\n",
              " 44,\n",
              " 11,\n",
              " 45,\n",
              " 46,\n",
              " 47,\n",
              " 2,\n",
              " 48,\n",
              " 49,\n",
              " 36,\n",
              " 50,\n",
              " 38,\n",
              " 51,\n",
              " 52,\n",
              " 24,\n",
              " 13,\n",
              " 53,\n",
              " 54,\n",
              " 55,\n",
              " 56,\n",
              " 43,\n",
              " 57,\n",
              " 58,\n",
              " 59,\n",
              " 60,\n",
              " 61,\n",
              " 62,\n",
              " 63,\n",
              " 64,\n",
              " 36,\n",
              " 65,\n",
              " 66,\n",
              " 67,\n",
              " 68,\n",
              " 69,\n",
              " 70,\n",
              " 24,\n",
              " 22,\n",
              " 71,\n",
              " 67,\n",
              " 64,\n",
              " 36,\n",
              " 72,\n",
              " 73,\n",
              " 74,\n",
              " 36,\n",
              " 75,\n",
              " 76,\n",
              " 77,\n",
              " 11,\n",
              " 78,\n",
              " 79,\n",
              " 80,\n",
              " 13,\n",
              " 81,\n",
              " 82,\n",
              " 83,\n",
              " 69,\n",
              " 84,\n",
              " 85,\n",
              " 86,\n",
              " 87,\n",
              " 88,\n",
              " 13,\n",
              " 89,\n",
              " 90,\n",
              " 91,\n",
              " 92,\n",
              " 86,\n",
              " 22,\n",
              " 13,\n",
              " 93,\n",
              " 94,\n",
              " 24,\n",
              " 22,\n",
              " 95,\n",
              " 96,\n",
              " 97,\n",
              " 91,\n",
              " 98,\n",
              " 99,\n",
              " 11,\n",
              " 100,\n",
              " 69,\n",
              " 101,\n",
              " 102,\n",
              " 79,\n",
              " 103,\n",
              " 40,\n",
              " 67,\n",
              " 104,\n",
              " 105,\n",
              " 106,\n",
              " 73,\n",
              " 59,\n",
              " 107,\n",
              " 40,\n",
              " 108,\n",
              " 40,\n",
              " 91,\n",
              " 109,\n",
              " 110,\n",
              " 24,\n",
              " 80,\n",
              " 111,\n",
              " 112,\n",
              " 69,\n",
              " 2,\n",
              " 4,\n",
              " 5,\n",
              " 54,\n",
              " 15,\n",
              " 113,\n",
              " 114,\n",
              " 115,\n",
              " 40,\n",
              " 38,\n",
              " 19,\n",
              " 46,\n",
              " 116,\n",
              " 24,\n",
              " 48,\n",
              " 40,\n",
              " 13,\n",
              " 105,\n",
              " 91,\n",
              " 117,\n",
              " 118,\n",
              " 119,\n",
              " 120,\n",
              " 91,\n",
              " 121,\n",
              " 95,\n",
              " 40,\n",
              " 122,\n",
              " 123,\n",
              " 17,\n",
              " 124,\n",
              " 31,\n",
              " 125,\n",
              " 126,\n",
              " 127,\n",
              " 76,\n",
              " 128,\n",
              " 129,\n",
              " 130,\n",
              " 24,\n",
              " 131,\n",
              " 7,\n",
              " 132,\n",
              " 133,\n",
              " 134,\n",
              " 17,\n",
              " 135,\n",
              " 40,\n",
              " 22,\n",
              " 136,\n",
              " 105,\n",
              " 91,\n",
              " 117,\n",
              " 119,\n",
              " 43,\n",
              " 137,\n",
              " 138,\n",
              " 22,\n",
              " 58,\n",
              " 139,\n",
              " 24,\n",
              " 122,\n",
              " 140,\n",
              " 141,\n",
              " 40,\n",
              " 142,\n",
              " 101,\n",
              " 143,\n",
              " 36,\n",
              " 144,\n",
              " 145,\n",
              " 146,\n",
              " 147,\n",
              " 148,\n",
              " 40,\n",
              " 49,\n",
              " 105,\n",
              " 118,\n",
              " 22,\n",
              " 149,\n",
              " 45,\n",
              " 24,\n",
              " 2,\n",
              " 150,\n",
              " 151,\n",
              " 13,\n",
              " 152,\n",
              " 51,\n",
              " 13,\n",
              " 153,\n",
              " 15,\n",
              " 154,\n",
              " 105,\n",
              " 155,\n",
              " 22,\n",
              " 13,\n",
              " 156,\n",
              " 54,\n",
              " 155,\n",
              " 51,\n",
              " 157,\n",
              " 158,\n",
              " 159,\n",
              " 160,\n",
              " 161,\n",
              " 36,\n",
              " 162,\n",
              " 163,\n",
              " 91,\n",
              " 164,\n",
              " 165,\n",
              " 36,\n",
              " 166,\n",
              " 155,\n",
              " 22,\n",
              " 116,\n",
              " 167,\n",
              " 22,\n",
              " 168,\n",
              " 24,\n",
              " 2,\n",
              " 4,\n",
              " 5,\n",
              " 54,\n",
              " 43,\n",
              " 144,\n",
              " 156,\n",
              " 51,\n",
              " 169,\n",
              " 170,\n",
              " 36,\n",
              " 171,\n",
              " 13,\n",
              " 172,\n",
              " 91,\n",
              " 173,\n",
              " 174,\n",
              " 175,\n",
              " 176,\n",
              " 177,\n",
              " 178,\n",
              " 11,\n",
              " 58,\n",
              " 139,\n",
              " 24,\n",
              " 179,\n",
              " 48,\n",
              " 40,\n",
              " 38,\n",
              " 156,\n",
              " 180,\n",
              " 124,\n",
              " 181,\n",
              " 182,\n",
              " 183,\n",
              " 11,\n",
              " 43,\n",
              " 53,\n",
              " 24]"
            ]
          },
          "metadata": {},
          "execution_count": 15
        }
      ]
    },
    {
      "cell_type": "code",
      "source": [
        "def index_to_word(indexed_texts, vocab):\n",
        "    # vocab의 역매핑을 생성합니다. 인덱스를 단어로 매핑합니다.\n",
        "    reverse_vocab = {index: word for word, index in vocab.items()}\n",
        "\n",
        "    # 인덱스 시퀀스를 단어 시퀀스로 변환합니다.\n",
        "    word_texts = []\n",
        "    for indexed_text in indexed_texts:\n",
        "        word_text = [reverse_vocab[index] for index in indexed_text]\n",
        "        word_texts.append(word_text)\n",
        "    return word_texts\n"
      ],
      "metadata": {
        "id": "_iWRP6cc0I7l"
      },
      "execution_count": null,
      "outputs": []
    },
    {
      "cell_type": "code",
      "source": [
        "original_texts = index_to_word([indexed_texts[0]], vocab)\n",
        "original_texts"
      ],
      "metadata": {
        "colab": {
          "base_uri": "https://localhost:8080/"
        },
        "id": "Kl0000Oh0Lkm",
        "outputId": "9565af01-e389-413f-ad7b-30741cef484e"
      },
      "execution_count": null,
      "outputs": [
        {
          "output_type": "execute_result",
          "data": {
            "text/plain": [
              "[['i',\n",
              "  'rented',\n",
              "  'i',\n",
              "  'am',\n",
              "  'curious-yellow',\n",
              "  'from',\n",
              "  'my',\n",
              "  'video',\n",
              "  'store',\n",
              "  'because',\n",
              "  'of',\n",
              "  'all',\n",
              "  'the',\n",
              "  'controversy',\n",
              "  'that',\n",
              "  'surrounded',\n",
              "  'it',\n",
              "  'when',\n",
              "  'it',\n",
              "  'was',\n",
              "  'first',\n",
              "  'released',\n",
              "  'in',\n",
              "  '1967',\n",
              "  '.',\n",
              "  'i',\n",
              "  'also',\n",
              "  'heard',\n",
              "  'that',\n",
              "  'at',\n",
              "  'first',\n",
              "  'it',\n",
              "  'was',\n",
              "  'seized',\n",
              "  'by',\n",
              "  'u',\n",
              "  '.',\n",
              "  's',\n",
              "  '.',\n",
              "  'customs',\n",
              "  'if',\n",
              "  'it',\n",
              "  'ever',\n",
              "  'tried',\n",
              "  'to',\n",
              "  'enter',\n",
              "  'this',\n",
              "  'country',\n",
              "  ',',\n",
              "  'therefore',\n",
              "  'being',\n",
              "  'a',\n",
              "  'fan',\n",
              "  'of',\n",
              "  'films',\n",
              "  'considered',\n",
              "  'controversial',\n",
              "  'i',\n",
              "  'really',\n",
              "  'had',\n",
              "  'to',\n",
              "  'see',\n",
              "  'this',\n",
              "  'for',\n",
              "  'myself',\n",
              "  '.',\n",
              "  'the',\n",
              "  'plot',\n",
              "  'is',\n",
              "  'centered',\n",
              "  'around',\n",
              "  'a',\n",
              "  'young',\n",
              "  'swedish',\n",
              "  'drama',\n",
              "  'student',\n",
              "  'named',\n",
              "  'lena',\n",
              "  'who',\n",
              "  'wants',\n",
              "  'to',\n",
              "  'learn',\n",
              "  'everything',\n",
              "  'she',\n",
              "  'can',\n",
              "  'about',\n",
              "  'life',\n",
              "  '.',\n",
              "  'in',\n",
              "  'particular',\n",
              "  'she',\n",
              "  'wants',\n",
              "  'to',\n",
              "  'focus',\n",
              "  'her',\n",
              "  'attentions',\n",
              "  'to',\n",
              "  'making',\n",
              "  'some',\n",
              "  'sort',\n",
              "  'of',\n",
              "  'documentary',\n",
              "  'on',\n",
              "  'what',\n",
              "  'the',\n",
              "  'average',\n",
              "  'swede',\n",
              "  'thought',\n",
              "  'about',\n",
              "  'certain',\n",
              "  'political',\n",
              "  'issues',\n",
              "  'such',\n",
              "  'as',\n",
              "  'the',\n",
              "  'vietnam',\n",
              "  'war',\n",
              "  'and',\n",
              "  'race',\n",
              "  'issues',\n",
              "  'in',\n",
              "  'the',\n",
              "  'united',\n",
              "  'states',\n",
              "  '.',\n",
              "  'in',\n",
              "  'between',\n",
              "  'asking',\n",
              "  'politicians',\n",
              "  'and',\n",
              "  'ordinary',\n",
              "  'denizens',\n",
              "  'of',\n",
              "  'stockholm',\n",
              "  'about',\n",
              "  'their',\n",
              "  'opinions',\n",
              "  'on',\n",
              "  'politics',\n",
              "  ',',\n",
              "  'she',\n",
              "  'has',\n",
              "  'sex',\n",
              "  'with',\n",
              "  'her',\n",
              "  'drama',\n",
              "  'teacher',\n",
              "  ',',\n",
              "  'classmates',\n",
              "  ',',\n",
              "  'and',\n",
              "  'married',\n",
              "  'men',\n",
              "  '.',\n",
              "  'what',\n",
              "  'kills',\n",
              "  'me',\n",
              "  'about',\n",
              "  'i',\n",
              "  'am',\n",
              "  'curious-yellow',\n",
              "  'is',\n",
              "  'that',\n",
              "  '40',\n",
              "  'years',\n",
              "  'ago',\n",
              "  ',',\n",
              "  'this',\n",
              "  'was',\n",
              "  'considered',\n",
              "  'pornographic',\n",
              "  '.',\n",
              "  'really',\n",
              "  ',',\n",
              "  'the',\n",
              "  'sex',\n",
              "  'and',\n",
              "  'nudity',\n",
              "  'scenes',\n",
              "  'are',\n",
              "  'few',\n",
              "  'and',\n",
              "  'far',\n",
              "  'between',\n",
              "  ',',\n",
              "  'even',\n",
              "  'then',\n",
              "  'it',\n",
              "  \"'\",\n",
              "  's',\n",
              "  'not',\n",
              "  'shot',\n",
              "  'like',\n",
              "  'some',\n",
              "  'cheaply',\n",
              "  'made',\n",
              "  'porno',\n",
              "  '.',\n",
              "  'while',\n",
              "  'my',\n",
              "  'countrymen',\n",
              "  'mind',\n",
              "  'find',\n",
              "  'it',\n",
              "  'shocking',\n",
              "  ',',\n",
              "  'in',\n",
              "  'reality',\n",
              "  'sex',\n",
              "  'and',\n",
              "  'nudity',\n",
              "  'are',\n",
              "  'a',\n",
              "  'major',\n",
              "  'staple',\n",
              "  'in',\n",
              "  'swedish',\n",
              "  'cinema',\n",
              "  '.',\n",
              "  'even',\n",
              "  'ingmar',\n",
              "  'bergman',\n",
              "  ',',\n",
              "  'arguably',\n",
              "  'their',\n",
              "  'answer',\n",
              "  'to',\n",
              "  'good',\n",
              "  'old',\n",
              "  'boy',\n",
              "  'john',\n",
              "  'ford',\n",
              "  ',',\n",
              "  'had',\n",
              "  'sex',\n",
              "  'scenes',\n",
              "  'in',\n",
              "  'his',\n",
              "  'films',\n",
              "  '.',\n",
              "  'i',\n",
              "  'do',\n",
              "  'commend',\n",
              "  'the',\n",
              "  'filmmakers',\n",
              "  'for',\n",
              "  'the',\n",
              "  'fact',\n",
              "  'that',\n",
              "  'any',\n",
              "  'sex',\n",
              "  'shown',\n",
              "  'in',\n",
              "  'the',\n",
              "  'film',\n",
              "  'is',\n",
              "  'shown',\n",
              "  'for',\n",
              "  'artistic',\n",
              "  'purposes',\n",
              "  'rather',\n",
              "  'than',\n",
              "  'just',\n",
              "  'to',\n",
              "  'shock',\n",
              "  'people',\n",
              "  'and',\n",
              "  'make',\n",
              "  'money',\n",
              "  'to',\n",
              "  'be',\n",
              "  'shown',\n",
              "  'in',\n",
              "  'pornographic',\n",
              "  'theaters',\n",
              "  'in',\n",
              "  'america',\n",
              "  '.',\n",
              "  'i',\n",
              "  'am',\n",
              "  'curious-yellow',\n",
              "  'is',\n",
              "  'a',\n",
              "  'good',\n",
              "  'film',\n",
              "  'for',\n",
              "  'anyone',\n",
              "  'wanting',\n",
              "  'to',\n",
              "  'study',\n",
              "  'the',\n",
              "  'meat',\n",
              "  'and',\n",
              "  'potatoes',\n",
              "  '(',\n",
              "  'no',\n",
              "  'pun',\n",
              "  'intended',\n",
              "  ')',\n",
              "  'of',\n",
              "  'swedish',\n",
              "  'cinema',\n",
              "  '.',\n",
              "  'but',\n",
              "  'really',\n",
              "  ',',\n",
              "  'this',\n",
              "  'film',\n",
              "  'doesn',\n",
              "  \"'\",\n",
              "  't',\n",
              "  'have',\n",
              "  'much',\n",
              "  'of',\n",
              "  'a',\n",
              "  'plot',\n",
              "  '.']]"
            ]
          },
          "metadata": {},
          "execution_count": 17
        }
      ]
    },
    {
      "cell_type": "markdown",
      "metadata": {
        "id": "Z8yYy2OPjC-a"
      },
      "source": [
        "### Padding and truncating data using pad sequences\n",
        "* 전부 길이가 다른 리뷰들의 길이를 통일해주자"
      ]
    },
    {
      "cell_type": "code",
      "source": [
        "def calculate_length_percentages(sequences, max_length=256):\n",
        "    # 각 시퀀스의 길이를 계산합니다.\n",
        "    lengths = [len(seq) for seq in sequences]\n",
        "\n",
        "    # max_length보다 짧은 시퀀스의 수를 세어 비율을 계산합니다.\n",
        "    num_shorter = sum(1 for length in lengths if length <= max_length)\n",
        "    percentage = (num_shorter / len(sequences)) * 100\n",
        "\n",
        "    return percentage"
      ],
      "metadata": {
        "id": "_QB_qLXV3u_C"
      },
      "execution_count": null,
      "outputs": []
    },
    {
      "cell_type": "code",
      "source": [
        "percentage = calculate_length_percentages(indexed_texts, max_length=256)\n",
        "print(f\"Percentage of sequences shorter than or equal to max_length: {percentage}%\")"
      ],
      "metadata": {
        "colab": {
          "base_uri": "https://localhost:8080/"
        },
        "id": "yvXF_fN44K_y",
        "outputId": "f71cdb12-8c15-45d0-9222-394780da724b"
      },
      "execution_count": null,
      "outputs": [
        {
          "output_type": "stream",
          "name": "stdout",
          "text": [
            "Percentage of sequences shorter than or equal to max_length: 63.756%\n"
          ]
        }
      ]
    },
    {
      "cell_type": "code",
      "source": [
        "def pad_sequences(sequences, max_len=None, padding_value=0):\n",
        "    # 최대 길이를 설정합니다. 만약 max_len이 제공되지 않으면, 시퀀스 중 가장 긴 것의 길이를 사용합니다.\n",
        "    if max_len is None:\n",
        "        max_len = max(len(seq) for seq in sequences)\n",
        "\n",
        "    # 패딩된 시퀀스의 배열을 초기화합니다.\n",
        "    padded_sequences = np.full((len(sequences), max_len), padding_value)\n",
        "\n",
        "    # 각 시퀀스를 패딩하여 배열에 넣습니다.\n",
        "    for i, seq in enumerate(sequences):\n",
        "        padded_sequences[i, -len(seq):] = seq[:max_len]\n",
        "\n",
        "    return padded_sequences\n"
      ],
      "metadata": {
        "id": "Vsom43vB3aC_"
      },
      "execution_count": null,
      "outputs": []
    },
    {
      "cell_type": "code",
      "source": [
        "padded_train_texts = pad_sequences(indexed_texts, max_len=256)\n",
        "print(padded_train_texts.shape)\n",
        "\n",
        "padded_test_texts = pad_sequences(test_indexed_texts, max_len=256)\n",
        "print(padded_test_texts.shape)"
      ],
      "metadata": {
        "colab": {
          "base_uri": "https://localhost:8080/"
        },
        "id": "PK71hl3E3bGr",
        "outputId": "b10efc52-eb0a-4570-cfbe-52d6a7c7d4cf"
      },
      "execution_count": null,
      "outputs": [
        {
          "output_type": "stream",
          "name": "stdout",
          "text": [
            "(25000, 256)\n",
            "(25000, 256)\n"
          ]
        }
      ]
    },
    {
      "cell_type": "markdown",
      "metadata": {
        "id": "d6YYEc0bjC-q"
      },
      "source": [
        "#### Padding data 출력"
      ]
    },
    {
      "cell_type": "code",
      "source": [
        "padded_train_texts[3]"
      ],
      "metadata": {
        "colab": {
          "base_uri": "https://localhost:8080/"
        },
        "id": "pefOzmvl5Ezi",
        "outputId": "b8423744-4d0b-4616-b90f-caee738f052e"
      },
      "execution_count": null,
      "outputs": [
        {
          "output_type": "execute_result",
          "data": {
            "text/plain": [
              "array([  0,   0,   0,   0,   0,   0,   0,   0,   0,   0,   0,   0,   0,\n",
              "         0,   0,   0,   0,   0,   0,   0,   0,   0,   0,   0,   0,   0,\n",
              "         0,   0,   0,   0,   0,   0,   0,   0,   0,   0,   0,   0,   0,\n",
              "         0,   0,   0,   0,   0,   0,   0,   0,   0,   0,   0,   0,   0,\n",
              "         0,   0,   0,   0,   0,   0,   0,   0,   0,   0,   0,   0,   0,\n",
              "         0,   0,   0,   0,   0,   0,   0,   0,   0,   0,   0,   0,   0,\n",
              "         0,   0,   0,   0,   0,   0,   0,   0,   0,   0,   0,   0,   0,\n",
              "         0,   0,   0,   0,   0,   0,   0,   0,   0,   0,   0,   0,   0,\n",
              "         0,   0,   0,   0,  38, 156,  19, 340, 341,  29, 342, 124,  31,\n",
              "       343,  40, 344,  91,   2, 345, 277,  36,  50,  15, 156, 346,  24,\n",
              "        13, 156, 104, 347, 348, 349,  91, 224, 119,  40, 174, 350, 178,\n",
              "        13, 351, 352, 174, 353, 178,  13, 354,  40, 355, 144,  40, 356,\n",
              "        24, 357,   6,  15,  40,  80, 358, 112, 359,  54,  13, 360, 361,\n",
              "        11, 362,  24,  62, 363, 104,  36, 166, 359, 364, 365,  22,  13,\n",
              "       366,  24,  67, 367, 313, 368,  91, 106,  12,  13, 117,  22,  38,\n",
              "       156,  40,  24,  24,  24,  17, 124,  31, 369,  24, 370,  36, 342,\n",
              "       124,  31, 156,  40, 371, 104, 372, 373, 106, 374,  24, 317, 375,\n",
              "       376, 121,  79,  38, 377,  40,   2, 378, 379,  15, 380,   6,  13,\n",
              "       266,  22, 381,  95,  13, 382,  91,  13,  58, 383,  24,  43, 384,\n",
              "        11, 385, 334,  40,  91, 386,  24, 387,  24])"
            ]
          },
          "metadata": {},
          "execution_count": 22
        }
      ]
    },
    {
      "cell_type": "markdown",
      "metadata": {
        "id": "9CPqHeI9y7g2"
      },
      "source": [
        "### Dataset 구성"
      ]
    },
    {
      "cell_type": "code",
      "source": [
        "from torch.utils.data import DataLoader, Dataset\n",
        "\n",
        "class TextDataset(Dataset):\n",
        "    def __init__(self, texts, labels):\n",
        "        self.texts = texts\n",
        "        self.labels = labels\n",
        "\n",
        "    def __len__(self):\n",
        "        return len(self.texts)\n",
        "\n",
        "    def __getitem__(self, idx):\n",
        "        return torch.tensor(self.texts[idx], dtype=torch.long), torch.tensor(self.labels[idx], dtype=torch.float)\n",
        "\n",
        "# 훈련 및 테스트 데이터셋 생성\n",
        "train_dataset = TextDataset(padded_train_texts, labels)\n",
        "test_dataset = TextDataset(padded_test_texts, test_labels)\n",
        "\n",
        "# DataLoader 생성\n",
        "batch_size=32\n",
        "train_loader = DataLoader(train_dataset, batch_size=batch_size, shuffle=True)\n",
        "test_loader = DataLoader(test_dataset, batch_size=batch_size, shuffle=False)\n"
      ],
      "metadata": {
        "id": "g6cksp0I57PJ"
      },
      "execution_count": null,
      "outputs": []
    },
    {
      "cell_type": "code",
      "source": [
        "for d, l in train_loader:\n",
        "    print(d.size(), l.size())\n",
        "    break\n",
        "\n",
        "for d, l in test_loader:\n",
        "    print(d.size(), l.size())\n",
        "    break"
      ],
      "metadata": {
        "colab": {
          "base_uri": "https://localhost:8080/"
        },
        "id": "pi43bh7G7NwG",
        "outputId": "a6cd2b73-f082-464f-9008-aec49b086fc4"
      },
      "execution_count": null,
      "outputs": [
        {
          "output_type": "stream",
          "name": "stdout",
          "text": [
            "torch.Size([32, 256]) torch.Size([32])\n",
            "torch.Size([32, 256]) torch.Size([32])\n"
          ]
        }
      ]
    },
    {
      "cell_type": "markdown",
      "metadata": {
        "id": "SMG2MOXUjC-y"
      },
      "source": [
        "## Build the model\n",
        "### Embedding layer\n",
        "\n",
        "* embedding-layer는 전체 vocabulary의 갯수(num_words)로 이루어진 index가 `embedding_size`의 *dense vector* 로 변환되는 과정입니다."
      ]
    },
    {
      "cell_type": "code",
      "source": [
        "class LSTMModel(nn.Module):\n",
        "    def __init__(self, vocab_size, embedding_dim, hidden_dim, output_dim, n_layers,\n",
        "                 bidirectional, dropout):\n",
        "        super(LSTMModel, self).__init__()\n",
        "\n",
        "        # 임베딩 레이어\n",
        "        self.embedding = nn.Embedding(vocab_size, embedding_dim)\n",
        "\n",
        "        # LSTM 레이어\n",
        "        self.lstm = nn.LSTM(embedding_dim, hidden_dim, num_layers=n_layers,\n",
        "                            bidirectional=bidirectional, dropout=dropout, batch_first=True)\n",
        "\n",
        "        # Fully-connected 레이어\n",
        "        self.fc = nn.Linear(hidden_dim * 2 if bidirectional else hidden_dim, output_dim)\n",
        "\n",
        "        # 드롭아웃\n",
        "        self.dropout = nn.Dropout(dropout)\n",
        "\n",
        "    def forward(self, text):\n",
        "        # text = [batch size, sent len]\n",
        "\n",
        "        # 임베딩 적용\n",
        "        embedded = self.dropout(self.embedding(text))\n",
        "        # embedded = [batch size, sent len, emb dim]\n",
        "\n",
        "        # LSTM 적용\n",
        "        output, (hidden, cell) = self.lstm(embedded)\n",
        "        # output = [batch size, sent len, hid dim * num directions]\n",
        "        # hidden/cell = [num layers * num directions, batch size, hid dim]\n",
        "\n",
        "        # 최종 출력을 위한 hidden state 선택\n",
        "        if self.lstm.bidirectional:\n",
        "            hidden = self.dropout(torch.cat((hidden[-2,:,:], hidden[-1,:,:]), dim=1))\n",
        "        else:\n",
        "            hidden = self.dropout(hidden[-1,:,:])\n",
        "        # hidden = [batch size, hid dim * num directions]\n",
        "\n",
        "        return self.fc(hidden)\n"
      ],
      "metadata": {
        "id": "PHQQVdRN7XSC"
      },
      "execution_count": null,
      "outputs": []
    },
    {
      "cell_type": "markdown",
      "metadata": {
        "id": "I5KBM5sdjC-v"
      },
      "source": [
        "## Setup hyper-parameters"
      ]
    },
    {
      "cell_type": "code",
      "source": [
        "INPUT_DIM = len(vocab)  # vocab_size\n",
        "EMBEDDING_DIM = 64      # 임베딩 차원\n",
        "HIDDEN_DIM = 256        # LSTM hidden 차원\n",
        "OUTPUT_DIM = 1          # 출력 차원 (이진 분류의 경우 1)\n",
        "N_LAYERS = 2            # LSTM 레이어 수\n",
        "BIDIRECTIONAL = True    # 양방향 LSTM 사용 여부\n",
        "DROPOUT = 0.5           # 드롭아웃 비율\n",
        "\n",
        "model = LSTMModel(INPUT_DIM, EMBEDDING_DIM, HIDDEN_DIM, OUTPUT_DIM, N_LAYERS,\n",
        "                  BIDIRECTIONAL, DROPOUT)\n"
      ],
      "metadata": {
        "id": "cnhhKDlP8CqT"
      },
      "execution_count": null,
      "outputs": []
    },
    {
      "cell_type": "markdown",
      "metadata": {
        "id": "cruLtRx2jC_C"
      },
      "source": [
        "## Train the model"
      ]
    },
    {
      "cell_type": "code",
      "source": [
        "# 손실 함수 및 옵티마이저 인스턴스화\n",
        "criterion = nn.BCEWithLogitsLoss()\n",
        "optimizer = optim.Adam(model.parameters())\n",
        "\n",
        "# 장치 설정 (GPU 사용 가능한 경우)\n",
        "device = torch.device('cuda' if torch.cuda.is_available() else 'cpu')\n",
        "model = model.to(device)\n",
        "criterion = criterion.to(device)"
      ],
      "metadata": {
        "id": "PR9AgoHI7Ypx"
      },
      "execution_count": null,
      "outputs": []
    },
    {
      "cell_type": "code",
      "source": [
        "def train(model, iterator, optimizer, criterion):\n",
        "    epoch_loss = 0\n",
        "    model.train()\n",
        "    for data, label in iterator:\n",
        "        data, label = data.to(device), label.to(device)\n",
        "\n",
        "        optimizer.zero_grad()\n",
        "        predictions = model(data)\n",
        "        loss = criterion(predictions, label.unsqueeze(-1))\n",
        "\n",
        "        loss.backward()\n",
        "        optimizer.step()\n",
        "        epoch_loss += loss.item()\n",
        "    return epoch_loss / len(iterator)\n",
        "\n",
        "def evaluate(model, iterator, criterion):\n",
        "    epoch_loss = 0\n",
        "    model.eval()\n",
        "    with torch.no_grad():\n",
        "        for data, label in iterator:\n",
        "            data, label = data.to(device), label.to(device)\n",
        "\n",
        "            predictions = model(data)\n",
        "            loss = criterion(predictions, label.unsqueeze(-1))\n",
        "            epoch_loss += loss.item()\n",
        "    return epoch_loss / len(iterator)\n"
      ],
      "metadata": {
        "id": "MnfZce-R8wSx"
      },
      "execution_count": null,
      "outputs": []
    },
    {
      "cell_type": "code",
      "source": [
        "N_EPOCHS = 10\n",
        "train_losses = []\n",
        "valid_losses = []\n",
        "\n",
        "for epoch in range(N_EPOCHS):\n",
        "    train_loss = train(model, train_loader, optimizer, criterion)\n",
        "    valid_loss = evaluate(model, test_loader, criterion)\n",
        "\n",
        "    train_losses.append(train_loss)\n",
        "    valid_losses.append(valid_loss)\n",
        "\n",
        "    print(f'Epoch: {epoch+1}, Train Loss: {train_loss:.3f}, Val. Loss: {valid_loss:.3f}')\n"
      ],
      "metadata": {
        "colab": {
          "base_uri": "https://localhost:8080/"
        },
        "id": "xGn6FacW80CI",
        "outputId": "67e1d6d9-0d30-4a22-dd2b-5b4f2e45fe6d"
      },
      "execution_count": null,
      "outputs": [
        {
          "output_type": "stream",
          "name": "stdout",
          "text": [
            "Epoch: 1, Train Loss: 0.692, Val. Loss: 0.692\n",
            "Epoch: 2, Train Loss: 0.691, Val. Loss: 0.676\n",
            "Epoch: 3, Train Loss: 0.652, Val. Loss: 0.643\n",
            "Epoch: 4, Train Loss: 0.538, Val. Loss: 0.456\n",
            "Epoch: 5, Train Loss: 0.416, Val. Loss: 0.371\n",
            "Epoch: 6, Train Loss: 0.355, Val. Loss: 0.360\n",
            "Epoch: 7, Train Loss: 0.309, Val. Loss: 0.367\n",
            "Epoch: 8, Train Loss: 0.273, Val. Loss: 0.314\n",
            "Epoch: 9, Train Loss: 0.259, Val. Loss: 0.321\n",
            "Epoch: 10, Train Loss: 0.223, Val. Loss: 0.326\n"
          ]
        }
      ]
    },
    {
      "cell_type": "code",
      "source": [
        "plt.plot(train_losses, label='Training loss')\n",
        "plt.plot(valid_losses, label='Validation loss')\n",
        "plt.title('Training and Validation Loss')\n",
        "plt.xlabel('Epochs')\n",
        "plt.ylabel('Loss')\n",
        "plt.legend()\n",
        "plt.show()\n"
      ],
      "metadata": {
        "colab": {
          "base_uri": "https://localhost:8080/",
          "height": 472
        },
        "id": "drPqLB_A822V",
        "outputId": "1ba0b039-8c79-42b5-b094-42fa96be2d3a"
      },
      "execution_count": null,
      "outputs": [
        {
          "output_type": "display_data",
          "data": {
            "text/plain": [
              "<Figure size 640x480 with 1 Axes>"
            ],
            "image/png": "[encoded data removed]"
          },
          "metadata": {}
        }
      ]
    },
    {
      "cell_type": "markdown",
      "source": [
        "### Model Evaluate"
      ],
      "metadata": {
        "id": "yZktlL0XD8LR"
      }
    },
    {
      "cell_type": "code",
      "source": [
        "def calculate_accuracy(model, loader, device):\n",
        "    model.eval()  # 모델을 평가 모드로 설정\n",
        "    correct = 0\n",
        "    total = 0\n",
        "\n",
        "    with torch.no_grad():  # 그래디언트 계산 비활성화\n",
        "        for texts, labels in loader:\n",
        "            texts, labels = texts.to(device), labels.to(device)\n",
        "            outputs = model(texts)\n",
        "            # 출력에서 가장 높은 값을 가진 인덱스가 예측값입니다 (이진 분류의 경우 시그모이드 적용 후 임계값 설정)\n",
        "            predictions = torch.round(torch.sigmoid(outputs.squeeze()))\n",
        "            correct += (predictions == labels).sum().item()\n",
        "            total += labels.size(0)\n",
        "\n",
        "    accuracy = correct / total\n",
        "    return accuracy\n"
      ],
      "metadata": {
        "id": "IZF4JOo39ws1"
      },
      "execution_count": null,
      "outputs": []
    },
    {
      "cell_type": "code",
      "source": [
        "test_accuracy = calculate_accuracy(model, test_loader, device)\n",
        "print(f'Test Accuracy: {test_accuracy * 100:.2f}%')\n"
      ],
      "metadata": {
        "colab": {
          "base_uri": "https://localhost:8080/"
        },
        "id": "5k0QEXwPEJts",
        "outputId": "77b5505c-0cfe-4b0f-d374-fb91dc54185a"
      },
      "execution_count": null,
      "outputs": [
        {
          "output_type": "stream",
          "name": "stdout",
          "text": [
            "Test Accuracy: 87.47%\n"
          ]
        }
      ]
    },
    {
      "cell_type": "code",
      "source": [],
      "metadata": {
        "id": "DX-K6tz3EKxU"
      },
      "execution_count": null,
      "outputs": []
    }
  ]
}