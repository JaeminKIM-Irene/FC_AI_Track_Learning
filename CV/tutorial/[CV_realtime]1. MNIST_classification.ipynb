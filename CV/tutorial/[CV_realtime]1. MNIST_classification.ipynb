{
  "cells": [
    {
      "cell_type": "markdown",
      "metadata": {
        "id": "view-in-github",
        "colab_type": "text"
      },
      "source": [
        "<a href=\"https://colab.research.google.com/github/JaeminKIM-Irene/FC_AI_Track_Learning/blob/main/CV/tutorial/%5BCV_realtime%5D1.%20MNIST_classification.ipynb\" target=\"_parent\"><img src=\"https://colab.research.google.com/assets/colab-badge.svg\" alt=\"Open In Colab\"/></a>"
      ]
    },
    {
      "cell_type": "code",
      "execution_count": null,
      "metadata": {
        "id": "MkoTTOOvkbas"
      },
      "outputs": [],
      "source": [
        "%matplotlib inline"
      ]
    },
    {
      "cell_type": "markdown",
      "metadata": {
        "id": "Ge64UXnJkbau"
      },
      "source": [
        "# MNIST Classification\n",
        "\n",
        "## 데이터 작업하기\n",
        "파이토치(PyTorch)에는 [데이터 작업을 위한 기본 요소](https://pytorch.org/docs/stable/data.html) 두가지인\n",
        "``torch.utils.data.DataLoader`` 와 ``torch.utils.data.Dataset`` 가 있습니다.\n",
        "``Dataset`` 은 샘플과 정답(label)을 저장하고, ``DataLoader`` 는 ``Dataset`` 을 순회 가능한 객체(iterable)로 감쌉니다.\n"
      ]
    },
    {
      "cell_type": "code",
      "execution_count": null,
      "metadata": {
        "id": "XUdt8UnUkbav"
      },
      "outputs": [],
      "source": [
        "import torch\n",
        "from torch import nn\n",
        "from torch.utils.data import DataLoader\n",
        "from torchvision import datasets\n",
        "from torchvision.transforms import ToTensor"
      ]
    },
    {
      "cell_type": "markdown",
      "metadata": {
        "id": "ST18_E8skbav"
      },
      "source": [
        "PyTorch는 [TorchText](https://pytorch.org/text/stable/index.html), [TorchVision](https://pytorch.org/vision/stable/index.html) 및\n",
        "[TorchAudio](https://pytorch.org/audio/stable/index.html) 와 같이 도메인 특화 라이브러리를 데이터셋과 함께 제공하고 있습니다.\n",
        "이 튜토리얼에서는 TorchVision 데이터셋을 사용하도록 하겠습니다.\n",
        "\n",
        "``torchvision.datasets`` 모듈은 CIFAR, COCO 등과 같은 다양한 실제 비전(vision) 데이터를 포함하고 있습니다.\n",
        "이 튜토리얼에서는 FasionMNIST 데이터셋을 사용합니다.\n",
        "모든 TorchVision ``Dataset`` 은 샘플과 정답을 각각 변경하기 위한 ``transform`` 과 ``target_transform`` 의 두 인자를 포함합니다.\n",
        "\n"
      ]
    },
    {
      "cell_type": "code",
      "execution_count": null,
      "metadata": {
        "id": "pZZEq4gGkbav"
      },
      "outputs": [],
      "source": [
        "# 공개 데이터셋에서 학습 데이터를 내려받습니다.\n",
        "training_data = datasets.MNIST(\n",
        "    root=\"data\",\n",
        "    train=True,\n",
        "    download=True,\n",
        "    transform=ToTensor(),\n",
        ")\n",
        "\n",
        "# 공개 데이터셋에서 테스트 데이터를 내려받습니다.\n",
        "test_data = datasets.MNIST(\n",
        "    root=\"data\",\n",
        "    train=False,\n",
        "    download=True,\n",
        "    transform=ToTensor(),\n",
        ")"
      ]
    },
    {
      "cell_type": "markdown",
      "metadata": {
        "id": "3NDSjGdpkbaw"
      },
      "source": [
        "``Dataset`` 을 ``DataLoader`` 의 인자로 전달합니다. 이는 데이터셋을 순회 가능한 객체(iterable)로 감싸고, 자동화된 배치(batch), 샘플링(sampling),\n",
        "섞기(shuffle) 및 다중 프로세스로 데이터 불러오기(multiprocess data loading)를 지원합니다. 여기서는 배치 크기(batch size)를 64로 정의합니다.\n",
        "즉, 데이터로더(dataloader) 객체의 각 요소는 64개의 특징(feature)과 정답(label)을 묶음(batch)으로 반환합니다.\n",
        "\n"
      ]
    },
    {
      "cell_type": "code",
      "source": [
        "test_data"
      ],
      "metadata": {
        "colab": {
          "base_uri": "https://localhost:8080/"
        },
        "id": "wWenioNxmQ8L",
        "outputId": "9b6ac537-5e73-462a-a815-28d1c5b18f80"
      },
      "execution_count": null,
      "outputs": [
        {
          "output_type": "execute_result",
          "data": {
            "text/plain": [
              "Dataset MNIST\n",
              "    Number of datapoints: 10000\n",
              "    Root location: data\n",
              "    Split: Test\n",
              "    StandardTransform\n",
              "Transform: ToTensor()"
            ]
          },
          "metadata": {},
          "execution_count": 4
        }
      ]
    },
    {
      "cell_type": "code",
      "execution_count": null,
      "metadata": {
        "id": "mUcYisAKkbaw",
        "colab": {
          "base_uri": "https://localhost:8080/"
        },
        "outputId": "2d6363ec-fff6-4d0f-df1c-d1de1674863e"
      },
      "outputs": [
        {
          "output_type": "stream",
          "name": "stdout",
          "text": [
            "Shape of X [N, C, H, W]: torch.Size([64, 1, 28, 28])\n",
            "Shape of y: torch.Size([64]) torch.int64\n"
          ]
        }
      ],
      "source": [
        "batch_size = 64\n",
        "\n",
        "# 데이터로더를 생성합니다.\n",
        "train_dataloader = DataLoader(training_data, batch_size)\n",
        "test_dataloader = DataLoader(test_data, batch_size)\n",
        "\n",
        "for X, y in test_dataloader:\n",
        "    print(f\"Shape of X [N, C, H, W]: {X.shape}\")\n",
        "    print(f\"Shape of y: {y.shape} {y.dtype}\")\n",
        "    break"
      ]
    },
    {
      "cell_type": "markdown",
      "metadata": {
        "id": "PvAKtDU_kbaw"
      },
      "source": [
        "------------------------------------------------------------------------------------------\n",
        "\n",
        "\n"
      ]
    },
    {
      "cell_type": "markdown",
      "metadata": {
        "id": "vdlPUvGlkbax"
      },
      "source": [
        "## 모델 만들기\n",
        "PyTorch에서 신경망 모델은 [nn.Module](https://pytorch.org/docs/stable/generated/torch.nn.Module.html) 을\n",
        "상속받는 클래스(class)를 생성하여 정의합니다. ``__init__`` 함수에서 신경망의 계층(layer)들을 정의하고 ``forward`` 함수에서\n",
        "신경망에 데이터를 어떻게 전달할지 지정합니다. 가능한 경우 GPU 또는 MPS로 신경망을 이동시켜 연산을 가속(accelerate)합니다.\n",
        "\n"
      ]
    },
    {
      "cell_type": "code",
      "execution_count": null,
      "metadata": {
        "id": "3bwdPfJJkbax",
        "colab": {
          "base_uri": "https://localhost:8080/"
        },
        "outputId": "ffe6d38b-43c4-43ec-c9b4-374cdf4a348c"
      },
      "outputs": [
        {
          "output_type": "stream",
          "name": "stdout",
          "text": [
            "Using cuda device\n",
            "NeuralNetwork(\n",
            "  (flatten): Flatten(start_dim=1, end_dim=-1)\n",
            "  (linear_relu_stack): Sequential(\n",
            "    (0): Linear(in_features=784, out_features=512, bias=True)\n",
            "    (1): ReLU()\n",
            "    (2): Linear(in_features=512, out_features=512, bias=True)\n",
            "    (3): ReLU()\n",
            "    (4): Linear(in_features=512, out_features=10, bias=True)\n",
            "  )\n",
            ")\n"
          ]
        }
      ],
      "source": [
        "# 학습에 사용할 CPU나 GPU, MPS 장치를 얻습니다.\n",
        "device = (\n",
        "    \"cuda\"\n",
        "    if torch.cuda.is_available()\n",
        "    else \"mps\" # Mac용\n",
        "    if torch.backends.mps.is_available()\n",
        "    else \"cpu\"\n",
        ")\n",
        "print(f\"Using {device} device\")\n",
        "\n",
        "# 모델을 정의합니다.\n",
        "class NeuralNetwork(nn.Module):\n",
        "    def __init__(self):\n",
        "        super().__init__()\n",
        "        self.flatten = nn.Flatten()\n",
        "        self.linear_relu_stack = nn.Sequential(\n",
        "            nn.Linear(28*28, 512),\n",
        "            nn.ReLU(),\n",
        "            nn.Linear(512, 512),\n",
        "            nn.ReLU(),\n",
        "            nn.Linear(512, 10)\n",
        "        )\n",
        "\n",
        "    def forward(self, x):\n",
        "        x = self.flatten(x)\n",
        "        logits = self.linear_relu_stack(x)\n",
        "        return logits\n",
        "\n",
        "model = NeuralNetwork().to(device)\n",
        "print(model)"
      ]
    },
    {
      "cell_type": "markdown",
      "metadata": {
        "id": "Ccx7KxKckbax"
      },
      "source": [
        "------------------------------------------------------------------------------------------\n",
        "\n",
        "\n"
      ]
    },
    {
      "cell_type": "markdown",
      "metadata": {
        "id": "XK6HKkcCkbax"
      },
      "source": [
        "## 모델 매개변수 최적화하기\n",
        "모델을 학습하려면 [손실 함수(loss function)](https://pytorch.org/docs/stable/nn.html#loss-functions) 와\n",
        "[옵티마이저(optimizer)](https://pytorch.org/docs/stable/optim.html) 가 필요합니다.\n",
        "\n"
      ]
    },
    {
      "cell_type": "code",
      "source": [
        "# Loss\n",
        "# model에 Activation이 포함된 output => CrossEntropy\n",
        "# model에 Activation이 안된 output => nn.NLLLoss"
      ],
      "metadata": {
        "id": "-vF6xDHS02JE"
      },
      "execution_count": null,
      "outputs": []
    },
    {
      "cell_type": "code",
      "execution_count": null,
      "metadata": {
        "id": "N4P-hlLnkbax"
      },
      "outputs": [],
      "source": [
        "loss_fn = nn.CrossEntropyLoss()\n",
        "optimizer = torch.optim.Adam(model.parameters(), lr=1e-3)"
      ]
    },
    {
      "cell_type": "markdown",
      "metadata": {
        "id": "VLIJI5VQkbax"
      },
      "source": [
        "각 학습 단계(training loop)에서 모델은 (배치(batch)로 제공되는) 학습 데이터셋에 대한 예측을 수행하고,\n",
        "예측 오류를 역전파하여 모델의 매개변수를 조정합니다.\n",
        "\n"
      ]
    },
    {
      "cell_type": "code",
      "execution_count": null,
      "metadata": {
        "id": "Svvowr3Jkbax"
      },
      "outputs": [],
      "source": [
        "def train(dataloader, model, loss_fn, optimizer):\n",
        "    size = len(dataloader.dataset)\n",
        "    for batch, (X, y) in enumerate(dataloader):\n",
        "        X, y = X.to(device), y.to(device)\n",
        "\n",
        "        # 예측 오류 계산\n",
        "        pred = model(X)\n",
        "        loss = loss_fn(pred, y)\n",
        "\n",
        "        # 역전파\n",
        "        optimizer.zero_grad()\n",
        "        loss.backward()\n",
        "        optimizer.step()\n",
        "\n",
        "        if batch % 100 == 0:\n",
        "            loss, current = loss.item(), (batch + 1) * len(X)\n",
        "            print(f\"loss: {loss:>7f}  [{current:>5d}/{size:>5d}]\")"
      ]
    },
    {
      "cell_type": "markdown",
      "metadata": {
        "id": "9UGEv91Kkbax"
      },
      "source": [
        "모델이 학습하고 있는지를 확인하기 위해 테스트 데이터셋으로 모델의 성능을 확인합니다.\n",
        "\n"
      ]
    },
    {
      "cell_type": "code",
      "execution_count": null,
      "metadata": {
        "id": "aS70DOGIkbax"
      },
      "outputs": [],
      "source": [
        "def test(dataloader, model, loss_fn):\n",
        "    size = len(dataloader.dataset)\n",
        "    num_batches = len(dataloader)\n",
        "    model.eval()\n",
        "    test_loss, correct = 0, 0\n",
        "    with torch.no_grad():\n",
        "        for X, y in dataloader:\n",
        "            X, y = X.to(device), y.to(device)\n",
        "            pred = model(X)\n",
        "            test_loss += loss_fn(pred, y).item()\n",
        "            correct += (pred.argmax(1) == y).type(torch.float).sum().item()\n",
        "    test_loss /= num_batches\n",
        "    correct /= size\n",
        "    print(f\"Test Error: \\n Accuracy: {(100*correct):>0.1f}%, Avg loss: {test_loss:>8f} \\n\")"
      ]
    },
    {
      "cell_type": "markdown",
      "metadata": {
        "id": "FkFMNjWckbay"
      },
      "source": [
        "학습 단계는 여러번의 반복 단계 (*에폭(epochs)*) 를 거쳐서 수행됩니다. 각 에폭에서는 모델은 더 나은 예측을 하기 위해  매개변수를 학습합니다.\n",
        "각 에폭마다 모델의 정확도(accuracy)와 손실(loss)을 출력합니다; 에폭마다 정확도가 증가하고 손실이 감소하는 것을 보려고 합니다.\n",
        "\n"
      ]
    },
    {
      "cell_type": "code",
      "execution_count": null,
      "metadata": {
        "id": "jw8iaTUOkbay",
        "colab": {
          "base_uri": "https://localhost:8080/"
        },
        "outputId": "60e29266-c031-43e3-c947-242922f9c6f9"
      },
      "outputs": [
        {
          "output_type": "stream",
          "name": "stdout",
          "text": [
            "Epoch 1\n",
            "-------------------------------\n",
            "loss: 2.303113  [   64/60000]\n",
            "loss: 0.277377  [ 6464/60000]\n",
            "loss: 0.202094  [12864/60000]\n",
            "loss: 0.260320  [19264/60000]\n",
            "loss: 0.147151  [25664/60000]\n",
            "loss: 0.308405  [32064/60000]\n",
            "loss: 0.137496  [38464/60000]\n",
            "loss: 0.199487  [44864/60000]\n",
            "loss: 0.254618  [51264/60000]\n",
            "loss: 0.175054  [57664/60000]\n",
            "Test Error: \n",
            " Accuracy: 95.2%, Avg loss: 0.150999 \n",
            "\n",
            "Epoch 2\n",
            "-------------------------------\n",
            "loss: 0.085031  [   64/60000]\n",
            "loss: 0.092302  [ 6464/60000]\n",
            "loss: 0.093636  [12864/60000]\n",
            "loss: 0.075761  [19264/60000]\n",
            "loss: 0.067432  [25664/60000]\n",
            "loss: 0.150475  [32064/60000]\n",
            "loss: 0.057712  [38464/60000]\n",
            "loss: 0.099412  [44864/60000]\n",
            "loss: 0.120119  [51264/60000]\n",
            "loss: 0.083435  [57664/60000]\n",
            "Test Error: \n",
            " Accuracy: 97.0%, Avg loss: 0.093762 \n",
            "\n",
            "Epoch 3\n",
            "-------------------------------\n",
            "loss: 0.025754  [   64/60000]\n",
            "loss: 0.068865  [ 6464/60000]\n",
            "loss: 0.033266  [12864/60000]\n",
            "loss: 0.135007  [19264/60000]\n",
            "loss: 0.044304  [25664/60000]\n",
            "loss: 0.121790  [32064/60000]\n",
            "loss: 0.046884  [38464/60000]\n",
            "loss: 0.078025  [44864/60000]\n",
            "loss: 0.058163  [51264/60000]\n",
            "loss: 0.075593  [57664/60000]\n",
            "Test Error: \n",
            " Accuracy: 96.5%, Avg loss: 0.122476 \n",
            "\n",
            "Epoch 4\n",
            "-------------------------------\n",
            "loss: 0.042071  [   64/60000]\n",
            "loss: 0.052479  [ 6464/60000]\n",
            "loss: 0.011919  [12864/60000]\n",
            "loss: 0.218950  [19264/60000]\n",
            "loss: 0.090449  [25664/60000]\n",
            "loss: 0.077074  [32064/60000]\n",
            "loss: 0.061454  [38464/60000]\n",
            "loss: 0.033768  [44864/60000]\n",
            "loss: 0.101063  [51264/60000]\n",
            "loss: 0.048911  [57664/60000]\n",
            "Test Error: \n",
            " Accuracy: 96.4%, Avg loss: 0.144132 \n",
            "\n",
            "Epoch 5\n",
            "-------------------------------\n",
            "loss: 0.007716  [   64/60000]\n",
            "loss: 0.021029  [ 6464/60000]\n",
            "loss: 0.080991  [12864/60000]\n",
            "loss: 0.130997  [19264/60000]\n",
            "loss: 0.008649  [25664/60000]\n",
            "loss: 0.019251  [32064/60000]\n",
            "loss: 0.022699  [38464/60000]\n",
            "loss: 0.016151  [44864/60000]\n",
            "loss: 0.083244  [51264/60000]\n",
            "loss: 0.015405  [57664/60000]\n",
            "Test Error: \n",
            " Accuracy: 97.3%, Avg loss: 0.110328 \n",
            "\n",
            "Epoch 6\n",
            "-------------------------------\n",
            "loss: 0.026900  [   64/60000]\n",
            "loss: 0.064190  [ 6464/60000]\n",
            "loss: 0.080647  [12864/60000]\n",
            "loss: 0.014215  [19264/60000]\n",
            "loss: 0.060918  [25664/60000]\n",
            "loss: 0.009328  [32064/60000]\n",
            "loss: 0.004975  [38464/60000]\n",
            "loss: 0.006403  [44864/60000]\n",
            "loss: 0.063977  [51264/60000]\n",
            "loss: 0.034520  [57664/60000]\n",
            "Test Error: \n",
            " Accuracy: 96.1%, Avg loss: 0.166883 \n",
            "\n",
            "Epoch 7\n",
            "-------------------------------\n",
            "loss: 0.018325  [   64/60000]\n",
            "loss: 0.001479  [ 6464/60000]\n",
            "loss: 0.259943  [12864/60000]\n",
            "loss: 0.018072  [19264/60000]\n",
            "loss: 0.004669  [25664/60000]\n",
            "loss: 0.011334  [32064/60000]\n",
            "loss: 0.008504  [38464/60000]\n",
            "loss: 0.008094  [44864/60000]\n",
            "loss: 0.108521  [51264/60000]\n",
            "loss: 0.060575  [57664/60000]\n",
            "Test Error: \n",
            " Accuracy: 97.4%, Avg loss: 0.108557 \n",
            "\n",
            "Epoch 8\n",
            "-------------------------------\n",
            "loss: 0.082800  [   64/60000]\n",
            "loss: 0.001221  [ 6464/60000]\n",
            "loss: 0.045849  [12864/60000]\n",
            "loss: 0.007599  [19264/60000]\n",
            "loss: 0.002282  [25664/60000]\n",
            "loss: 0.007172  [32064/60000]\n",
            "loss: 0.009325  [38464/60000]\n",
            "loss: 0.024954  [44864/60000]\n",
            "loss: 0.015337  [51264/60000]\n",
            "loss: 0.001079  [57664/60000]\n",
            "Test Error: \n",
            " Accuracy: 97.2%, Avg loss: 0.122107 \n",
            "\n",
            "Epoch 9\n",
            "-------------------------------\n",
            "loss: 0.024485  [   64/60000]\n",
            "loss: 0.049434  [ 6464/60000]\n",
            "loss: 0.007719  [12864/60000]\n",
            "loss: 0.016271  [19264/60000]\n",
            "loss: 0.046333  [25664/60000]\n",
            "loss: 0.049070  [32064/60000]\n",
            "loss: 0.002100  [38464/60000]\n",
            "loss: 0.002927  [44864/60000]\n",
            "loss: 0.005135  [51264/60000]\n",
            "loss: 0.019421  [57664/60000]\n",
            "Test Error: \n",
            " Accuracy: 97.9%, Avg loss: 0.088315 \n",
            "\n",
            "Epoch 10\n",
            "-------------------------------\n",
            "loss: 0.001269  [   64/60000]\n",
            "loss: 0.013499  [ 6464/60000]\n",
            "loss: 0.038794  [12864/60000]\n",
            "loss: 0.000543  [19264/60000]\n",
            "loss: 0.000796  [25664/60000]\n",
            "loss: 0.000473  [32064/60000]\n",
            "loss: 0.001186  [38464/60000]\n",
            "loss: 0.013521  [44864/60000]\n",
            "loss: 0.176086  [51264/60000]\n",
            "loss: 0.059627  [57664/60000]\n",
            "Test Error: \n",
            " Accuracy: 98.0%, Avg loss: 0.098597 \n",
            "\n",
            "Done!\n"
          ]
        }
      ],
      "source": [
        "epochs = 10\n",
        "for t in range(epochs):\n",
        "    print(f\"Epoch {t+1}\\n-------------------------------\")\n",
        "    train(train_dataloader, model, loss_fn, optimizer)\n",
        "    test(test_dataloader, model, loss_fn)\n",
        "print(\"Done!\")"
      ]
    },
    {
      "cell_type": "markdown",
      "metadata": {
        "id": "9zx51mKzkbay"
      },
      "source": [
        "------------------------------------------------------------------------------------------\n",
        "\n",
        "\n"
      ]
    },
    {
      "cell_type": "markdown",
      "metadata": {
        "id": "tanzHe4jkbay"
      },
      "source": [
        "## 모델 저장하기\n",
        "모델을 저장하는 일반적인 방법은 (모델의 매개변수들을 포함하여) 내부 상태 사전(internal state dictionary)을\n",
        "직렬화(serialize)하는 것입니다.\n",
        "\n"
      ]
    },
    {
      "cell_type": "code",
      "execution_count": null,
      "metadata": {
        "id": "-_AMD6O-kbay",
        "colab": {
          "base_uri": "https://localhost:8080/"
        },
        "outputId": "0a701ec0-1809-4685-ad2f-7774d86787eb"
      },
      "outputs": [
        {
          "output_type": "stream",
          "name": "stdout",
          "text": [
            "Saved PyTorch Model State to model.pth\n"
          ]
        }
      ],
      "source": [
        "torch.save(model.state_dict(), \"model.pth\")\n",
        "print(\"Saved PyTorch Model State to model.pth\")"
      ]
    },
    {
      "cell_type": "markdown",
      "metadata": {
        "id": "441FBKKkkbay"
      },
      "source": [
        "## 모델 불러오기\n",
        "\n",
        "모델을 불러오는 과정에는 모델 구조를 다시 만들고 상태 사전을 모델에 불러오는 과정이 포함됩니다.\n",
        "\n"
      ]
    },
    {
      "cell_type": "code",
      "execution_count": null,
      "metadata": {
        "id": "-_Xl3y6Nkbay",
        "colab": {
          "base_uri": "https://localhost:8080/"
        },
        "outputId": "5bcfc58c-5b3a-4f7a-e488-72802dd37c95"
      },
      "outputs": [
        {
          "output_type": "execute_result",
          "data": {
            "text/plain": [
              "<All keys matched successfully>"
            ]
          },
          "metadata": {},
          "execution_count": 13
        }
      ],
      "source": [
        "model = NeuralNetwork().to(device)\n",
        "model.load_state_dict(torch.load(\"model.pth\"))"
      ]
    },
    {
      "cell_type": "markdown",
      "metadata": {
        "id": "UDONFUPvkbay"
      },
      "source": [
        "이제 이 모델을 사용해서 예측을 할 수 있습니다.\n",
        "\n"
      ]
    },
    {
      "cell_type": "code",
      "execution_count": null,
      "metadata": {
        "id": "rKddeYBVkbay",
        "colab": {
          "base_uri": "https://localhost:8080/"
        },
        "outputId": "b6c6ccd7-6de7-4cca-e86d-ca9a5879c16c"
      },
      "outputs": [
        {
          "output_type": "stream",
          "name": "stdout",
          "text": [
            "Predicted: \"7\", Actual: \"7\"\n"
          ]
        }
      ],
      "source": [
        "classes = [\n",
        "    \"0\",\n",
        "    \"1\",\n",
        "    \"2\",\n",
        "    \"3\",\n",
        "    \"4\",\n",
        "    \"5\",\n",
        "    \"6\",\n",
        "    \"7\",\n",
        "    \"8\",\n",
        "    \"9\",\n",
        "]\n",
        "\n",
        "model.eval()\n",
        "x, y = test_data[0][0], test_data[0][1]\n",
        "with torch.no_grad():\n",
        "    x = x.to(device)\n",
        "    pred = model(x)\n",
        "    predicted, actual = classes[pred[0].argmax(0)], classes[y]\n",
        "    print(f'Predicted: \"{predicted}\", Actual: \"{actual}\"')"
      ]
    },
    {
      "cell_type": "code",
      "source": [],
      "metadata": {
        "id": "3Y_mZrDF8veh"
      },
      "execution_count": null,
      "outputs": []
    }
  ],
  "metadata": {
    "kernelspec": {
      "display_name": "Python 3",
      "name": "python3"
    },
    "language_info": {
      "codemirror_mode": {
        "name": "ipython",
        "version": 3
      },
      "file_extension": ".py",
      "mimetype": "text/x-python",
      "name": "python",
      "nbconvert_exporter": "python",
      "pygments_lexer": "ipython3",
      "version": "3.9.16"
    },
    "colab": {
      "provenance": [],
      "gpuType": "T4",
      "include_colab_link": true
    },
    "accelerator": "GPU"
  },
  "nbformat": 4,
  "nbformat_minor": 0
}